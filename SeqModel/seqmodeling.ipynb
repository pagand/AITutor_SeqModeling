{
 "cells": [
  {
   "cell_type": "code",
   "execution_count": 2,
   "metadata": {},
   "outputs": [],
   "source": [
    "import os\n",
    "import csv\n",
    "import pandas as pd\n",
    "import time\n",
    "import pickle\n",
    "import sys\n",
    "import datetime\n",
    "import numpy as np\n",
    "import seaborn as sns\n",
    "import matplotlib.pyplot as plt\n"
   ]
  },
  {
   "cell_type": "code",
   "execution_count": 3,
   "metadata": {},
   "outputs": [
    {
     "name": "stdout",
     "output_type": "stream",
     "text": [
      "/local-scratch/localhome/pagand/projects/mygitsDaTu/AITutor_SeqModeling/SeqModel\n"
     ]
    }
   ],
   "source": [
    "print(os.getcwd())\n",
    "# it should end with this: /AITutor_SeqModeling\n",
    "# if not, run the next block\n"
   ]
  },
  {
   "cell_type": "code",
   "execution_count": 4,
   "metadata": {},
   "outputs": [
    {
     "name": "stdout",
     "output_type": "stream",
     "text": [
      "/local-scratch/localhome/pagand/projects/mygitsDaTu/AITutor_SeqModeling\n"
     ]
    }
   ],
   "source": [
    "# run if the current directory is not AITutor_SeqModeling\n",
    "cwd = os.chdir(os.path.join(os.getcwd(), \"..\"))\n",
    "print(os.getcwd())"
   ]
  },
  {
   "cell_type": "code",
   "execution_count": 5,
   "metadata": {},
   "outputs": [
    {
     "name": "stdout",
     "output_type": "stream",
     "text": [
      "  username           Date and Time Time since session started\\n(h:mm:ss)  \\\n",
      "0       a1 2023-08-03 09:34:57.240                              00:00:00   \n",
      "1       a1 2023-08-03 09:35:00.152                              00:00:02   \n",
      "2       a1 2023-08-03 09:35:30.167                              00:00:32   \n",
      "3       a1 2023-08-03 09:41:32.112                              00:06:34   \n",
      "4       a1 2023-08-03 09:41:32.112                              00:06:34   \n",
      "\n",
      "         space                     action  \n",
      "0          NaN                 User login  \n",
      "1   /courses/1                  Load page  \n",
      "2  EDA Toolbox  Load default toolbox page  \n",
      "3    Problem 1              Start problem  \n",
      "4    Problem 1               First answer  \n"
     ]
    }
   ],
   "source": [
    "File_xlsx = \"data/integration_log_group_a.xlsx\"\n",
    "\n",
    "df = pd.read_excel(File_xlsx)\n",
    "df = df.iloc[:, :-1] \n",
    "\n",
    "print(df.head())"
   ]
  },
  {
   "cell_type": "code",
   "execution_count": 6,
   "metadata": {},
   "outputs": [
    {
     "name": "stdout",
     "output_type": "stream",
     "text": [
      "      username           Date and Time Time since session started\\n(h:mm:ss)  \\\n",
      "0           a1 2023-08-03 09:34:57.240                              00:00:00   \n",
      "1           a1 2023-08-03 09:35:00.152                              00:00:02   \n",
      "2           a1 2023-08-03 09:35:30.167                              00:00:32   \n",
      "3           a1 2023-08-03 09:41:32.112                              00:06:34   \n",
      "4           a1 2023-08-03 09:41:32.112                              00:06:34   \n",
      "...        ...                     ...                                   ...   \n",
      "22209      b51 2023-09-21 12:05:15.996                              02:37:57   \n",
      "22210      b51 2023-09-21 12:05:39.705                              02:38:21   \n",
      "22211      b51 2023-09-21 21:00:11.019                              11:32:52   \n",
      "22212      b51 2023-09-21 21:00:11.043                              11:32:52   \n",
      "22213      b51 2023-09-22 07:32:32.204                              22:05:14   \n",
      "\n",
      "             space                     action  \n",
      "0              NaN                 User login  \n",
      "1       /courses/1                  Load page  \n",
      "2      EDA Toolbox  Load default toolbox page  \n",
      "3        Problem 1              Start problem  \n",
      "4        Problem 1               First answer  \n",
      "...            ...                        ...  \n",
      "22209    Problem 3              Change answer  \n",
      "22210    Problem 3             Submit problem  \n",
      "22211   /courses/1                  Load page  \n",
      "22212   /courses/1                  Load page  \n",
      "22213   /courses/1                  Load page  \n",
      "\n",
      "[40941 rows x 5 columns]\n"
     ]
    }
   ],
   "source": [
    "# augment group_b at the end of it\n",
    "File_xlsx = \"data/integration_log_group_b.xlsx\"\n",
    "\n",
    "\n",
    "df_b = pd.read_excel(File_xlsx)\n",
    "df_b = df_b.iloc[:, :-1]\n",
    "\n",
    "df = pd.concat([df, df_b], axis=0)\n",
    "print(df)"
   ]
  },
  {
   "cell_type": "code",
   "execution_count": 7,
   "metadata": {},
   "outputs": [
    {
     "name": "stdout",
     "output_type": "stream",
     "text": [
      "          score1  score2    score3\n",
      "username                          \n",
      "a1        0.6875    0.45  0.583333\n",
      "a2        0.4375    0.00  0.000000\n",
      "a3        0.6250    0.35  0.166667\n",
      "a4        0.5000    0.45  0.000000\n",
      "a5        0.4375    0.30  0.194444\n",
      "...          ...     ...       ...\n",
      "b46       0.8750    0.45  0.194444\n",
      "b47       0.5000    0.30  0.555556\n",
      "b48       0.3125    0.40  0.138889\n",
      "b49       0.4375    0.40  0.472222\n",
      "b51       0.3750    0.40  0.444444\n",
      "\n",
      "[89 rows x 3 columns]\n"
     ]
    }
   ],
   "source": [
    "# read the scores\n",
    "File_score_xlsx = [\"data/Groupa_scores.xlsx\", \"data/Groupb_scores.xlsx\"]\n",
    "\n",
    "for i in range(2):\n",
    "    # read the scores\n",
    "    read_file = pd.read_excel(File_score_xlsx[i])\n",
    "\n",
    "    # change the first column name to username\n",
    "    read_file.rename(columns={\"Participant ID's\":'username', 'Problem 1 (Score out of 16)': 'score1',\n",
    "                            'Problem 2 (Score out of 20)': 'score2', 'Problem 3 (Score out of 18)': 'score3' }, inplace=True)\n",
    "    \n",
    "    # use the username as the index\n",
    "    read_file.set_index('username', inplace=True)\n",
    "    # devide first column by 16, second column by 20, third column by 18\n",
    "    read_file['score1'] = read_file['score1'].div(16)\n",
    "    read_file['score2'] = read_file['score2'].div(20)\n",
    "    read_file['score3'] = read_file['score3'].div(18)\n",
    "    if i:\n",
    "        read_file = read_file[:-4]\n",
    "        score_df = pd.concat([score_df, read_file], axis=0)\n",
    "    else:\n",
    "        read_file = read_file[:-3]\n",
    "        score_df = read_file.copy()\n",
    "\n",
    "print(score_df)"
   ]
  },
  {
   "cell_type": "code",
   "execution_count": 8,
   "metadata": {},
   "outputs": [
    {
     "name": "stdout",
     "output_type": "stream",
     "text": [
      "    username  problem     score\n",
      "0         a1        1  0.687500\n",
      "1         a1        2  0.450000\n",
      "2         a1        3  0.583333\n",
      "3         a2        1  0.437500\n",
      "4         a2        2  0.000000\n",
      "..       ...      ...       ...\n",
      "262      b49        2  0.400000\n",
      "263      b49        3  0.472222\n",
      "264      b51        1  0.375000\n",
      "265      b51        2  0.400000\n",
      "266      b51        3  0.444444\n",
      "\n",
      "[267 rows x 3 columns]\n"
     ]
    }
   ],
   "source": [
    "# convert the score_df to a df series the value is the score.\n",
    "# it should look like this:\n",
    "# username probelm score\n",
    "# a1        1       0.5\n",
    "# a1        2       0.6\n",
    "# a1        3       0.7\n",
    "# a2        1       0.6\n",
    "\n",
    "\n",
    "score_df = score_df.stack().reset_index()\n",
    "score_df.columns = ['username', 'problem', 'score']\n",
    "# replace score1, score2, score3 with 1, 2, 3\n",
    "score_df['problem'] = score_df['problem'].str.replace('score', '').astype(int)\n",
    "print(score_df)"
   ]
  },
  {
   "cell_type": "code",
   "execution_count": 9,
   "metadata": {},
   "outputs": [],
   "source": [
    "# have a copy of the original df (run to reset)\n",
    "if 'df_org' not in globals():\n",
    "    df_org = df.copy()\n",
    "else:\n",
    "    df = df_org.copy()"
   ]
  },
  {
   "cell_type": "code",
   "execution_count": 10,
   "metadata": {},
   "outputs": [
    {
     "name": "stdout",
     "output_type": "stream",
     "text": [
      "action\n",
      "Change answer                      11370\n",
      "First answer                        4569\n",
      "Update confidence                   2996\n",
      "Request another hint                2712\n",
      "Streamlit interaction               2451\n",
      "New answer explanation              2108\n",
      "Auto-save log                       1874\n",
      "Request first hint                  1788\n",
      "Paste answer                        1662\n",
      "Update answer explanation           1622\n",
      "Load default toolbox page           1576\n",
      "Load page                           1306\n",
      "Freeform code run                   1258\n",
      "Run code error                       624\n",
      "Run code                             577\n",
      "Start reading sub-module             448\n",
      "User request                         400\n",
      "Chatbot response                     400\n",
      "Respond to hint feedback             385\n",
      "Start problem                        254\n",
      "Submit problem                       235\n",
      "Complete sub-module                  122\n",
      "User login                           111\n",
      "Save note                             56\n",
      "Stop reading sub-module preview       28\n",
      "User logout                            9\n",
      "Name: count, dtype: int64\n"
     ]
    }
   ],
   "source": [
    "# get the unique values of the column action\n",
    "unique_actions = df.action.unique()\n",
    "# peint unique actions with their counts\n",
    "print(df['action'].value_counts())"
   ]
  },
  {
   "cell_type": "code",
   "execution_count": 11,
   "metadata": {},
   "outputs": [
    {
     "name": "stdout",
     "output_type": "stream",
     "text": [
      "action\n",
      "Change answer                11370\n",
      "First answer                  4569\n",
      "Update confidence             2996\n",
      "Request another hint          2712\n",
      "Streamlit interaction         2451\n",
      "New answer explanation        2108\n",
      "Request first hint            1788\n",
      "Paste answer                  1662\n",
      "Update answer explanation     1622\n",
      "Freeform code run             1258\n",
      "Run code                       577\n",
      "User request                   400\n",
      "Respond to hint feedback       385\n",
      "Complete sub-module            122\n",
      "Name: count, dtype: int64\n"
     ]
    }
   ],
   "source": [
    "# remove entries in df that are 'Save note','Auto-save log', 'Load default toolbox page', 'Load page', 'Run code error', 'Start reading sub-module', 'User login', 'User logout',  'Start problem', 'Submit problem'\n",
    "df = df[~df['action'].isin(['Save note','Auto-save log', 'Load default toolbox page', 'Load page', 'Run code error', 'Start reading sub-module', 'User login', 'User logout',  'Start problem', 'Submit problem', 'Stop reading sub-module preview', 'Chatbot response'])]\n",
    "# get the unique values of the column action\n",
    "unique_actions = df.action.unique()\n",
    "# peint unique actions with their counts\n",
    "print(df['action'].value_counts())"
   ]
  },
  {
   "cell_type": "code",
   "execution_count": 12,
   "metadata": {},
   "outputs": [
    {
     "data": {
      "text/plain": [
       "space\n",
       "Problem 3      10570\n",
       "Problem 2      10530\n",
       "Problem 1       9370\n",
       "EDA Toolbox     2451\n",
       "Code Editor      577\n",
       "AI Chatbot       400\n",
       "Library          122\n",
       "Name: count, dtype: int64"
      ]
     },
     "execution_count": 12,
     "metadata": {},
     "output_type": "execute_result"
    }
   ],
   "source": [
    "df['space'].value_counts()"
   ]
  },
  {
   "cell_type": "code",
   "execution_count": 13,
   "metadata": {},
   "outputs": [
    {
     "data": {
      "text/plain": [
       "space\n",
       "1    11807\n",
       "2    11416\n",
       "3    10797\n",
       "Name: count, dtype: Int64"
      ]
     },
     "execution_count": 13,
     "metadata": {},
     "output_type": "execute_result"
    }
   ],
   "source": [
    "df['space'] = df['space'].replace('Problem 3', 3)\n",
    "df['space'] = df['space'].replace('Problem 2', 2)\n",
    "df['space'] = df['space'].replace('Problem 1', 1)\n",
    "# if the space is not int, make it np.nan\n",
    "df['space'] = pd.to_numeric(df['space'], errors='coerce')\n",
    "# # if the space is not 1,2,3 change it to the value of the previous row\n",
    "df['space'] = df['space'].fillna(method='ffill')\n",
    "# change dtyle of space to Int64\n",
    "df['space'] = df['space'].astype('Int64')\n",
    "df['space'].value_counts()\n"
   ]
  },
  {
   "cell_type": "code",
   "execution_count": 14,
   "metadata": {},
   "outputs": [],
   "source": [
    "# check for type(df.iloc[i, 2]) if is not datetime.time, then convert it to datetime.time\n",
    "df = df.drop(columns=['Date and Time']) \n",
    "for i in range(len(df)):\n",
    "    if type(df.iloc[i, 1]) != datetime.time:\n",
    "        df.iloc[i, 1] = df.iloc[i, 1].time()\n",
    "# rename second column to time\n",
    "df.rename(columns={df.columns[1]: 'time'}, inplace=True)\n",
    "df.rename(columns={df.columns[2]: 'problem'}, inplace=True)\n"
   ]
  },
  {
   "cell_type": "code",
   "execution_count": 15,
   "metadata": {},
   "outputs": [
    {
     "data": {
      "text/html": [
       "<div>\n",
       "<style scoped>\n",
       "    .dataframe tbody tr th:only-of-type {\n",
       "        vertical-align: middle;\n",
       "    }\n",
       "\n",
       "    .dataframe tbody tr th {\n",
       "        vertical-align: top;\n",
       "    }\n",
       "\n",
       "    .dataframe thead th {\n",
       "        text-align: right;\n",
       "    }\n",
       "</style>\n",
       "<table border=\"1\" class=\"dataframe\">\n",
       "  <thead>\n",
       "    <tr style=\"text-align: right;\">\n",
       "      <th></th>\n",
       "      <th>username</th>\n",
       "      <th>time</th>\n",
       "      <th>problem</th>\n",
       "      <th>action</th>\n",
       "    </tr>\n",
       "  </thead>\n",
       "  <tbody>\n",
       "    <tr>\n",
       "      <th>4</th>\n",
       "      <td>a1</td>\n",
       "      <td>00:06:34</td>\n",
       "      <td>1</td>\n",
       "      <td>FA</td>\n",
       "    </tr>\n",
       "    <tr>\n",
       "      <th>5</th>\n",
       "      <td>a1</td>\n",
       "      <td>00:06:36</td>\n",
       "      <td>1</td>\n",
       "      <td>FE</td>\n",
       "    </tr>\n",
       "    <tr>\n",
       "      <th>6</th>\n",
       "      <td>a1</td>\n",
       "      <td>00:06:49</td>\n",
       "      <td>1</td>\n",
       "      <td>UE</td>\n",
       "    </tr>\n",
       "    <tr>\n",
       "      <th>7</th>\n",
       "      <td>a1</td>\n",
       "      <td>00:07:13</td>\n",
       "      <td>1</td>\n",
       "      <td>UE</td>\n",
       "    </tr>\n",
       "    <tr>\n",
       "      <th>8</th>\n",
       "      <td>a1</td>\n",
       "      <td>00:07:38</td>\n",
       "      <td>1</td>\n",
       "      <td>UE</td>\n",
       "    </tr>\n",
       "    <tr>\n",
       "      <th>...</th>\n",
       "      <td>...</td>\n",
       "      <td>...</td>\n",
       "      <td>...</td>\n",
       "      <td>...</td>\n",
       "    </tr>\n",
       "    <tr>\n",
       "      <th>22205</th>\n",
       "      <td>b51</td>\n",
       "      <td>02:37:36</td>\n",
       "      <td>3</td>\n",
       "      <td>UH</td>\n",
       "    </tr>\n",
       "    <tr>\n",
       "      <th>22206</th>\n",
       "      <td>b51</td>\n",
       "      <td>02:37:36</td>\n",
       "      <td>3</td>\n",
       "      <td>UH</td>\n",
       "    </tr>\n",
       "    <tr>\n",
       "      <th>22207</th>\n",
       "      <td>b51</td>\n",
       "      <td>02:37:45</td>\n",
       "      <td>3</td>\n",
       "      <td>PA</td>\n",
       "    </tr>\n",
       "    <tr>\n",
       "      <th>22208</th>\n",
       "      <td>b51</td>\n",
       "      <td>02:37:47</td>\n",
       "      <td>3</td>\n",
       "      <td>UA</td>\n",
       "    </tr>\n",
       "    <tr>\n",
       "      <th>22209</th>\n",
       "      <td>b51</td>\n",
       "      <td>02:37:57</td>\n",
       "      <td>3</td>\n",
       "      <td>UA</td>\n",
       "    </tr>\n",
       "  </tbody>\n",
       "</table>\n",
       "<p>34020 rows × 4 columns</p>\n",
       "</div>"
      ],
      "text/plain": [
       "      username      time  problem action\n",
       "4           a1  00:06:34        1     FA\n",
       "5           a1  00:06:36        1     FE\n",
       "6           a1  00:06:49        1     UE\n",
       "7           a1  00:07:13        1     UE\n",
       "8           a1  00:07:38        1     UE\n",
       "...        ...       ...      ...    ...\n",
       "22205      b51  02:37:36        3     UH\n",
       "22206      b51  02:37:36        3     UH\n",
       "22207      b51  02:37:45        3     PA\n",
       "22208      b51  02:37:47        3     UA\n",
       "22209      b51  02:37:57        3     UA\n",
       "\n",
       "[34020 rows x 4 columns]"
      ]
     },
     "execution_count": 15,
     "metadata": {},
     "output_type": "execute_result"
    }
   ],
   "source": [
    "# create a map for actions\n",
    "# create a map for actions\n",
    "action_map = {\n",
    "    'Change answer': 'UA',\n",
    "    'First answer': 'FA',\n",
    "    'Paste answer': 'PA',\n",
    "    'Request first hint': 'FH',\n",
    "    'Request another hint': 'UH',\n",
    "    'Respond to hint feedback': 'RH',\n",
    "    'New answer explanation': 'FE',\n",
    "    'Update answer explanation': 'UE',\n",
    "    'Freeform code run': 'RF',\n",
    "    'Run code': 'RC',\n",
    "    'User request': 'B',\n",
    "    'Update confidence': 'C',\n",
    "    'Complete sub-module': 'M',\n",
    "    'Streamlit interaction': 'S'\n",
    "}\n",
    "\n",
    "# map the actions\n",
    "df['action'] = df['action'].map(action_map)\n",
    "df\n"
   ]
  },
  {
   "cell_type": "code",
   "execution_count": 16,
   "metadata": {},
   "outputs": [
    {
     "data": {
      "text/html": [
       "<div>\n",
       "<style scoped>\n",
       "    .dataframe tbody tr th:only-of-type {\n",
       "        vertical-align: middle;\n",
       "    }\n",
       "\n",
       "    .dataframe tbody tr th {\n",
       "        vertical-align: top;\n",
       "    }\n",
       "\n",
       "    .dataframe thead th {\n",
       "        text-align: right;\n",
       "    }\n",
       "</style>\n",
       "<table border=\"1\" class=\"dataframe\">\n",
       "  <thead>\n",
       "    <tr style=\"text-align: right;\">\n",
       "      <th></th>\n",
       "      <th>username</th>\n",
       "      <th>problem</th>\n",
       "      <th>action</th>\n",
       "      <th>duration</th>\n",
       "    </tr>\n",
       "  </thead>\n",
       "  <tbody>\n",
       "    <tr>\n",
       "      <th>4</th>\n",
       "      <td>a1</td>\n",
       "      <td>1</td>\n",
       "      <td>FA</td>\n",
       "      <td>NaN</td>\n",
       "    </tr>\n",
       "    <tr>\n",
       "      <th>5</th>\n",
       "      <td>a1</td>\n",
       "      <td>1</td>\n",
       "      <td>FE</td>\n",
       "      <td>2.0</td>\n",
       "    </tr>\n",
       "    <tr>\n",
       "      <th>6</th>\n",
       "      <td>a1</td>\n",
       "      <td>1</td>\n",
       "      <td>UE</td>\n",
       "      <td>13.0</td>\n",
       "    </tr>\n",
       "    <tr>\n",
       "      <th>7</th>\n",
       "      <td>a1</td>\n",
       "      <td>1</td>\n",
       "      <td>UE</td>\n",
       "      <td>24.0</td>\n",
       "    </tr>\n",
       "    <tr>\n",
       "      <th>8</th>\n",
       "      <td>a1</td>\n",
       "      <td>1</td>\n",
       "      <td>UE</td>\n",
       "      <td>25.0</td>\n",
       "    </tr>\n",
       "    <tr>\n",
       "      <th>...</th>\n",
       "      <td>...</td>\n",
       "      <td>...</td>\n",
       "      <td>...</td>\n",
       "      <td>...</td>\n",
       "    </tr>\n",
       "    <tr>\n",
       "      <th>22205</th>\n",
       "      <td>b51</td>\n",
       "      <td>3</td>\n",
       "      <td>UH</td>\n",
       "      <td>0.0</td>\n",
       "    </tr>\n",
       "    <tr>\n",
       "      <th>22206</th>\n",
       "      <td>b51</td>\n",
       "      <td>3</td>\n",
       "      <td>UH</td>\n",
       "      <td>0.0</td>\n",
       "    </tr>\n",
       "    <tr>\n",
       "      <th>22207</th>\n",
       "      <td>b51</td>\n",
       "      <td>3</td>\n",
       "      <td>PA</td>\n",
       "      <td>9.0</td>\n",
       "    </tr>\n",
       "    <tr>\n",
       "      <th>22208</th>\n",
       "      <td>b51</td>\n",
       "      <td>3</td>\n",
       "      <td>UA</td>\n",
       "      <td>2.0</td>\n",
       "    </tr>\n",
       "    <tr>\n",
       "      <th>22209</th>\n",
       "      <td>b51</td>\n",
       "      <td>3</td>\n",
       "      <td>UA</td>\n",
       "      <td>10.0</td>\n",
       "    </tr>\n",
       "  </tbody>\n",
       "</table>\n",
       "<p>34020 rows × 4 columns</p>\n",
       "</div>"
      ],
      "text/plain": [
       "      username  problem action  duration\n",
       "4           a1        1     FA       NaN\n",
       "5           a1        1     FE       2.0\n",
       "6           a1        1     UE      13.0\n",
       "7           a1        1     UE      24.0\n",
       "8           a1        1     UE      25.0\n",
       "...        ...      ...    ...       ...\n",
       "22205      b51        3     UH       0.0\n",
       "22206      b51        3     UH       0.0\n",
       "22207      b51        3     PA       9.0\n",
       "22208      b51        3     UA       2.0\n",
       "22209      b51        3     UA      10.0\n",
       "\n",
       "[34020 rows x 4 columns]"
      ]
     },
     "execution_count": 16,
     "metadata": {},
     "output_type": "execute_result"
    }
   ],
   "source": [
    "# in column time, compute the difference between the current row and the previous row in seconds, only if the username and probem are the same\n",
    "# otherwise, put np.nan\n",
    "df['duration']=np.nan\n",
    "for i in range(1, len(df)):\n",
    "    if df.iloc[i, 0] == df.iloc[i-1, 0] and df.iloc[i, 2] == df.iloc[i-1, 2]:\n",
    "        df.iloc[i, 4] = (datetime.datetime.combine(datetime.datetime.today(), df.iloc[i, 1])\n",
    "            - datetime.datetime.combine(datetime.datetime.today(), df.iloc[i-1, 1])).total_seconds()\n",
    "# remove the time column\n",
    "df = df.drop(columns=['time'])\n",
    "df"
   ]
  },
  {
   "cell_type": "code",
   "execution_count": 17,
   "metadata": {},
   "outputs": [],
   "source": [
    "# if there is a negative value in the duration column, replace it with np.nan\n",
    "df['duration'] = df['duration'].apply(lambda x: np.nan if x < 0 else x)\n",
    "# if it is greater than 1200, replace it with np.nan\n",
    "df['duration'] = df['duration'].apply(lambda x: np.nan if x > 1200 else x)\n"
   ]
  },
  {
   "cell_type": "code",
   "execution_count": 18,
   "metadata": {},
   "outputs": [
    {
     "data": {
      "text/html": [
       "<div>\n",
       "<style scoped>\n",
       "    .dataframe tbody tr th:only-of-type {\n",
       "        vertical-align: middle;\n",
       "    }\n",
       "\n",
       "    .dataframe tbody tr th {\n",
       "        vertical-align: top;\n",
       "    }\n",
       "\n",
       "    .dataframe thead th {\n",
       "        text-align: right;\n",
       "    }\n",
       "</style>\n",
       "<table border=\"1\" class=\"dataframe\">\n",
       "  <thead>\n",
       "    <tr style=\"text-align: right;\">\n",
       "      <th></th>\n",
       "      <th>username</th>\n",
       "      <th>problem</th>\n",
       "      <th>action</th>\n",
       "      <th>duration</th>\n",
       "    </tr>\n",
       "  </thead>\n",
       "  <tbody>\n",
       "    <tr>\n",
       "      <th>4</th>\n",
       "      <td>a1</td>\n",
       "      <td>1</td>\n",
       "      <td>FA</td>\n",
       "      <td>24.81457</td>\n",
       "    </tr>\n",
       "    <tr>\n",
       "      <th>5</th>\n",
       "      <td>a1</td>\n",
       "      <td>1</td>\n",
       "      <td>FE</td>\n",
       "      <td>2.00000</td>\n",
       "    </tr>\n",
       "    <tr>\n",
       "      <th>6</th>\n",
       "      <td>a1</td>\n",
       "      <td>1</td>\n",
       "      <td>UE</td>\n",
       "      <td>13.00000</td>\n",
       "    </tr>\n",
       "    <tr>\n",
       "      <th>7</th>\n",
       "      <td>a1</td>\n",
       "      <td>1</td>\n",
       "      <td>UE</td>\n",
       "      <td>24.00000</td>\n",
       "    </tr>\n",
       "    <tr>\n",
       "      <th>8</th>\n",
       "      <td>a1</td>\n",
       "      <td>1</td>\n",
       "      <td>UE</td>\n",
       "      <td>25.00000</td>\n",
       "    </tr>\n",
       "    <tr>\n",
       "      <th>...</th>\n",
       "      <td>...</td>\n",
       "      <td>...</td>\n",
       "      <td>...</td>\n",
       "      <td>...</td>\n",
       "    </tr>\n",
       "    <tr>\n",
       "      <th>22205</th>\n",
       "      <td>b51</td>\n",
       "      <td>3</td>\n",
       "      <td>UH</td>\n",
       "      <td>0.00000</td>\n",
       "    </tr>\n",
       "    <tr>\n",
       "      <th>22206</th>\n",
       "      <td>b51</td>\n",
       "      <td>3</td>\n",
       "      <td>UH</td>\n",
       "      <td>0.00000</td>\n",
       "    </tr>\n",
       "    <tr>\n",
       "      <th>22207</th>\n",
       "      <td>b51</td>\n",
       "      <td>3</td>\n",
       "      <td>PA</td>\n",
       "      <td>9.00000</td>\n",
       "    </tr>\n",
       "    <tr>\n",
       "      <th>22208</th>\n",
       "      <td>b51</td>\n",
       "      <td>3</td>\n",
       "      <td>UA</td>\n",
       "      <td>2.00000</td>\n",
       "    </tr>\n",
       "    <tr>\n",
       "      <th>22209</th>\n",
       "      <td>b51</td>\n",
       "      <td>3</td>\n",
       "      <td>UA</td>\n",
       "      <td>10.00000</td>\n",
       "    </tr>\n",
       "  </tbody>\n",
       "</table>\n",
       "<p>34020 rows × 4 columns</p>\n",
       "</div>"
      ],
      "text/plain": [
       "      username  problem action  duration\n",
       "4           a1        1     FA  24.81457\n",
       "5           a1        1     FE   2.00000\n",
       "6           a1        1     UE  13.00000\n",
       "7           a1        1     UE  24.00000\n",
       "8           a1        1     UE  25.00000\n",
       "...        ...      ...    ...       ...\n",
       "22205      b51        3     UH   0.00000\n",
       "22206      b51        3     UH   0.00000\n",
       "22207      b51        3     PA   9.00000\n",
       "22208      b51        3     UA   2.00000\n",
       "22209      b51        3     UA  10.00000\n",
       "\n",
       "[34020 rows x 4 columns]"
      ]
     },
     "execution_count": 18,
     "metadata": {},
     "output_type": "execute_result"
    }
   ],
   "source": [
    "# impute the missing values in duration with the mean of the duration in the same problem and username\n",
    "df['duration'] = df['duration'].fillna(df.groupby(['username', 'problem'])['duration'].transform('mean'))\n",
    "df"
   ]
  },
  {
   "cell_type": "code",
   "execution_count": 19,
   "metadata": {},
   "outputs": [
    {
     "data": {
      "text/html": [
       "<div>\n",
       "<style scoped>\n",
       "    .dataframe tbody tr th:only-of-type {\n",
       "        vertical-align: middle;\n",
       "    }\n",
       "\n",
       "    .dataframe tbody tr th {\n",
       "        vertical-align: top;\n",
       "    }\n",
       "\n",
       "    .dataframe thead th {\n",
       "        text-align: right;\n",
       "    }\n",
       "</style>\n",
       "<table border=\"1\" class=\"dataframe\">\n",
       "  <thead>\n",
       "    <tr style=\"text-align: right;\">\n",
       "      <th></th>\n",
       "      <th>problem</th>\n",
       "      <th>duration</th>\n",
       "    </tr>\n",
       "  </thead>\n",
       "  <tbody>\n",
       "    <tr>\n",
       "      <th>count</th>\n",
       "      <td>34020.0</td>\n",
       "      <td>34020.000000</td>\n",
       "    </tr>\n",
       "    <tr>\n",
       "      <th>mean</th>\n",
       "      <td>1.970312</td>\n",
       "      <td>19.510460</td>\n",
       "    </tr>\n",
       "    <tr>\n",
       "      <th>std</th>\n",
       "      <td>0.814599</td>\n",
       "      <td>47.330066</td>\n",
       "    </tr>\n",
       "    <tr>\n",
       "      <th>min</th>\n",
       "      <td>1.0</td>\n",
       "      <td>0.000000</td>\n",
       "    </tr>\n",
       "    <tr>\n",
       "      <th>25%</th>\n",
       "      <td>1.0</td>\n",
       "      <td>2.000000</td>\n",
       "    </tr>\n",
       "    <tr>\n",
       "      <th>50%</th>\n",
       "      <td>2.0</td>\n",
       "      <td>5.000000</td>\n",
       "    </tr>\n",
       "    <tr>\n",
       "      <th>75%</th>\n",
       "      <td>3.0</td>\n",
       "      <td>19.000000</td>\n",
       "    </tr>\n",
       "    <tr>\n",
       "      <th>max</th>\n",
       "      <td>3.0</td>\n",
       "      <td>1198.000000</td>\n",
       "    </tr>\n",
       "  </tbody>\n",
       "</table>\n",
       "</div>"
      ],
      "text/plain": [
       "        problem      duration\n",
       "count   34020.0  34020.000000\n",
       "mean   1.970312     19.510460\n",
       "std    0.814599     47.330066\n",
       "min         1.0      0.000000\n",
       "25%         1.0      2.000000\n",
       "50%         2.0      5.000000\n",
       "75%         3.0     19.000000\n",
       "max         3.0   1198.000000"
      ]
     },
     "execution_count": 19,
     "metadata": {},
     "output_type": "execute_result"
    }
   ],
   "source": [
    "# describe the df \n",
    "df.describe()"
   ]
  },
  {
   "cell_type": "code",
   "execution_count": 20,
   "metadata": {},
   "outputs": [
    {
     "data": {
      "text/html": [
       "<div>\n",
       "<style scoped>\n",
       "    .dataframe tbody tr th:only-of-type {\n",
       "        vertical-align: middle;\n",
       "    }\n",
       "\n",
       "    .dataframe tbody tr th {\n",
       "        vertical-align: top;\n",
       "    }\n",
       "\n",
       "    .dataframe thead th {\n",
       "        text-align: right;\n",
       "    }\n",
       "</style>\n",
       "<table border=\"1\" class=\"dataframe\">\n",
       "  <thead>\n",
       "    <tr style=\"text-align: right;\">\n",
       "      <th></th>\n",
       "      <th>username</th>\n",
       "      <th>problem</th>\n",
       "      <th>action</th>\n",
       "      <th>duration</th>\n",
       "    </tr>\n",
       "  </thead>\n",
       "  <tbody>\n",
       "    <tr>\n",
       "      <th>4</th>\n",
       "      <td>a1</td>\n",
       "      <td>1</td>\n",
       "      <td>FA</td>\n",
       "      <td>T5</td>\n",
       "    </tr>\n",
       "    <tr>\n",
       "      <th>5</th>\n",
       "      <td>a1</td>\n",
       "      <td>1</td>\n",
       "      <td>FE</td>\n",
       "      <td>T1</td>\n",
       "    </tr>\n",
       "    <tr>\n",
       "      <th>6</th>\n",
       "      <td>a1</td>\n",
       "      <td>1</td>\n",
       "      <td>UE</td>\n",
       "      <td>T3</td>\n",
       "    </tr>\n",
       "    <tr>\n",
       "      <th>7</th>\n",
       "      <td>a1</td>\n",
       "      <td>1</td>\n",
       "      <td>UE</td>\n",
       "      <td>T5</td>\n",
       "    </tr>\n",
       "    <tr>\n",
       "      <th>8</th>\n",
       "      <td>a1</td>\n",
       "      <td>1</td>\n",
       "      <td>UE</td>\n",
       "      <td>T5</td>\n",
       "    </tr>\n",
       "    <tr>\n",
       "      <th>...</th>\n",
       "      <td>...</td>\n",
       "      <td>...</td>\n",
       "      <td>...</td>\n",
       "      <td>...</td>\n",
       "    </tr>\n",
       "    <tr>\n",
       "      <th>22205</th>\n",
       "      <td>b51</td>\n",
       "      <td>3</td>\n",
       "      <td>UH</td>\n",
       "      <td>T0</td>\n",
       "    </tr>\n",
       "    <tr>\n",
       "      <th>22206</th>\n",
       "      <td>b51</td>\n",
       "      <td>3</td>\n",
       "      <td>UH</td>\n",
       "      <td>T0</td>\n",
       "    </tr>\n",
       "    <tr>\n",
       "      <th>22207</th>\n",
       "      <td>b51</td>\n",
       "      <td>3</td>\n",
       "      <td>PA</td>\n",
       "      <td>T2</td>\n",
       "    </tr>\n",
       "    <tr>\n",
       "      <th>22208</th>\n",
       "      <td>b51</td>\n",
       "      <td>3</td>\n",
       "      <td>UA</td>\n",
       "      <td>T1</td>\n",
       "    </tr>\n",
       "    <tr>\n",
       "      <th>22209</th>\n",
       "      <td>b51</td>\n",
       "      <td>3</td>\n",
       "      <td>UA</td>\n",
       "      <td>T2</td>\n",
       "    </tr>\n",
       "  </tbody>\n",
       "</table>\n",
       "<p>34020 rows × 4 columns</p>\n",
       "</div>"
      ],
      "text/plain": [
       "      username  problem action duration\n",
       "4           a1        1     FA       T5\n",
       "5           a1        1     FE       T1\n",
       "6           a1        1     UE       T3\n",
       "7           a1        1     UE       T5\n",
       "8           a1        1     UE       T5\n",
       "...        ...      ...    ...      ...\n",
       "22205      b51        3     UH       T0\n",
       "22206      b51        3     UH       T0\n",
       "22207      b51        3     PA       T2\n",
       "22208      b51        3     UA       T1\n",
       "22209      b51        3     UA       T2\n",
       "\n",
       "[34020 rows x 4 columns]"
      ]
     },
     "execution_count": 20,
     "metadata": {},
     "output_type": "execute_result"
    }
   ],
   "source": [
    "# decode the duration colomn as follows:\n",
    "# 0-1: '0'\n",
    "# 1-5: '1'\n",
    "# 5-10: '2'\n",
    "# 10-15: '3'\n",
    "# 15-20: '4'\n",
    "# 20-30: ''5'\n",
    "# 30-60: '6'\n",
    "# 60-120: '7'\n",
    "# 120-300: '8'\n",
    "# 300-MAX: 'MAX'\n",
    "\n",
    "df['duration'] = pd.cut(df['duration'], bins=[-0.1, 1, 5, 10, 15, 20, 30, 60, 120, 300, df['duration'].max()], labels=['T0', 'T1', 'T2', 'T3', 'T4', 'T5', 'T6', 'T7', 'T8', 'TMAX'])\n",
    "df\n"
   ]
  },
  {
   "cell_type": "code",
   "execution_count": 21,
   "metadata": {},
   "outputs": [
    {
     "name": "stdout",
     "output_type": "stream",
     "text": [
      "number of sequence episode we have 254\n",
      "number of scores we have  267\n"
     ]
    }
   ],
   "source": [
    "# for each username and problem, create a numpy array of the pair of actions, duration in the order they appear\n",
    "# Then put the numpy array in a dictionary with the key as the username and problem\n",
    "# example:\n",
    "# (a1, 1): [UA, T0, FA, T1, PA, T2]\n",
    "# (a1, 2): [UA, T0, FA, T1, PA, T2, FH, T3]\n",
    "# (a2, 1): [UA, T0, FA, T1, PA, T2, FH, T3, UH, T4]\n",
    "\n",
    "# create a dictionary\n",
    "df_dict = {}\n",
    "for i in range(len(df)):\n",
    "    if (df.iloc[i, 0], df.iloc[i, 1]) in df_dict:\n",
    "        df_dict[(df.iloc[i, 0], df.iloc[i, 1])].extend([df.iloc[i, 2], df.iloc[i, 3]])\n",
    "    else:\n",
    "        df_dict[(df.iloc[i, 0], df.iloc[i, 1])] = ['Q{}'.format(df.iloc[i, 1]), df.iloc[i, 2], df.iloc[i, 3]]\n",
    "\n",
    "# # convert the list to numpy array\n",
    "# for key in df_dict.keys():\n",
    "#     df_dict[key] = np.array(df_dict[key])\n",
    "     \n",
    "\n",
    "print(\"number of sequence episode we have\", len(df_dict.keys()))\n",
    "print(\"number of scores we have \", len(score_df))"
   ]
  },
  {
   "cell_type": "code",
   "execution_count": 22,
   "metadata": {},
   "outputs": [
    {
     "name": "stdout",
     "output_type": "stream",
     "text": [
      "254 254\n"
     ]
    }
   ],
   "source": [
    "# for each key in the dictionary, find the score and append the values to a list (sequences) and the score to another list (scores)\n",
    "# len(sequences) should be equal to len(scores)\n",
    "\n",
    "sequences = []\n",
    "scores = []\n",
    "for key in df_dict.keys():\n",
    "        sequences.append(df_dict[key])\n",
    "        scores.append(score_df[(score_df['username'] == key[0]) & (score_df['problem'] == key[1])]['score'].values.tolist())\n",
    "\n",
    "print(len(sequences), len(scores))"
   ]
  },
  {
   "cell_type": "code",
   "execution_count": 23,
   "metadata": {},
   "outputs": [],
   "source": [
    "# if scores is empty, replace it with 0\n",
    "scores = [[0] if len(x) == 0 else x for x in scores]"
   ]
  },
  {
   "cell_type": "code",
   "execution_count": 24,
   "metadata": {},
   "outputs": [
    {
     "name": "stderr",
     "output_type": "stream",
     "text": [
      "/localhome/pagand/projects/mygitsDaTu/AITutor_SeqModeling/myenv/lib/python3.8/site-packages/tqdm/auto.py:21: TqdmWarning: IProgress not found. Please update jupyter and ipywidgets. See https://ipywidgets.readthedocs.io/en/stable/user_install.html\n",
      "  from .autonotebook import tqdm as notebook_tqdm\n"
     ]
    }
   ],
   "source": [
    "# train the model\n",
    "import torch\n",
    "from torch.utils.data import DataLoader, Dataset, random_split\n",
    "from transformers import BertTokenizer, BertForSequenceClassification, AdamW, get_linear_schedule_with_warmup\n",
    "import wandb\n",
    "import torch.nn as nn\n"
   ]
  },
  {
   "cell_type": "code",
   "execution_count": 25,
   "metadata": {},
   "outputs": [
    {
     "name": "stdout",
     "output_type": "stream",
     "text": [
      "['/localhome/pagand/projects/mygitsDaTu/AITutor_SeqModeling/myenv/lib/python3.8/site-packages/wandb']\n"
     ]
    }
   ],
   "source": [
    "print(wandb.__path__)"
   ]
  },
  {
   "cell_type": "code",
   "execution_count": 26,
   "metadata": {},
   "outputs": [
    {
     "name": "stderr",
     "output_type": "stream",
     "text": [
      "Failed to detect the name of this notebook, you can set it manually with the WANDB_NOTEBOOK_NAME environment variable to enable code saving.\n",
      "\u001b[34m\u001b[1mwandb\u001b[0m: Currently logged in as: \u001b[33mpedramagand\u001b[0m (\u001b[33mmarslab\u001b[0m). Use \u001b[1m`wandb login --relogin`\u001b[0m to force relogin\n"
     ]
    },
    {
     "data": {
      "text/html": [
       "Tracking run with wandb version 0.17.0"
      ],
      "text/plain": [
       "<IPython.core.display.HTML object>"
      ]
     },
     "metadata": {},
     "output_type": "display_data"
    },
    {
     "data": {
      "text/html": [
       "Run data is saved locally in <code>/local-scratch/localhome/pagand/projects/mygitsDaTu/AITutor_SeqModeling/wandb/run-20240530_160726-2crva14k</code>"
      ],
      "text/plain": [
       "<IPython.core.display.HTML object>"
      ]
     },
     "metadata": {},
     "output_type": "display_data"
    },
    {
     "data": {
      "text/html": [
       "Syncing run <strong><a href='https://wandb.ai/marslab/DaTu_prediction/runs/2crva14k' target=\"_blank\">bert-base-uncased</a></strong> to <a href='https://wandb.ai/marslab/DaTu_prediction' target=\"_blank\">Weights & Biases</a> (<a href='https://wandb.me/run' target=\"_blank\">docs</a>)<br/>"
      ],
      "text/plain": [
       "<IPython.core.display.HTML object>"
      ]
     },
     "metadata": {},
     "output_type": "display_data"
    },
    {
     "data": {
      "text/html": [
       " View project at <a href='https://wandb.ai/marslab/DaTu_prediction' target=\"_blank\">https://wandb.ai/marslab/DaTu_prediction</a>"
      ],
      "text/plain": [
       "<IPython.core.display.HTML object>"
      ]
     },
     "metadata": {},
     "output_type": "display_data"
    },
    {
     "data": {
      "text/html": [
       " View run at <a href='https://wandb.ai/marslab/DaTu_prediction/runs/2crva14k' target=\"_blank\">https://wandb.ai/marslab/DaTu_prediction/runs/2crva14k</a>"
      ],
      "text/plain": [
       "<IPython.core.display.HTML object>"
      ]
     },
     "metadata": {},
     "output_type": "display_data"
    },
    {
     "data": {
      "text/html": [
       "<button onClick=\"this.nextSibling.style.display='block';this.style.display='none';\">Display W&B run</button><iframe src='https://wandb.ai/marslab/DaTu_prediction/runs/2crva14k?jupyter=true' style='border:none;width:100%;height:420px;display:none;'></iframe>"
      ],
      "text/plain": [
       "<wandb.sdk.wandb_run.Run at 0x7f61373eea00>"
      ]
     },
     "execution_count": 26,
     "metadata": {},
     "output_type": "execute_result"
    }
   ],
   "source": [
    "wandb.init(project=\"DaTu_prediction\", entity=\"marslab\", name = \"bert-base-uncased\")"
   ]
  },
  {
   "cell_type": "code",
   "execution_count": 26,
   "metadata": {},
   "outputs": [
    {
     "name": "stderr",
     "output_type": "stream",
     "text": [
      "/localhome/pagand/projects/mygitsDaTu/AITutor_SeqModeling/myenv/lib/python3.8/site-packages/huggingface_hub/file_download.py:1132: FutureWarning: `resume_download` is deprecated and will be removed in version 1.0.0. Downloads always resume when possible. If you want to force a new download, use `force_download=True`.\n",
      "  warnings.warn(\n",
      "Some weights of BertForSequenceClassification were not initialized from the model checkpoint at bert-base-uncased and are newly initialized: ['classifier.bias', 'classifier.weight']\n",
      "You should probably TRAIN this model on a down-stream task to be able to use it for predictions and inference.\n"
     ]
    }
   ],
   "source": [
    "model_name = 'bert-base-uncased'\n",
    "tokenizer = BertTokenizer.from_pretrained(model_name)\n",
    "model = BertForSequenceClassification.from_pretrained(model_name, num_labels=1)  # num_labels=1 for regression\n"
   ]
  },
  {
   "cell_type": "code",
   "execution_count": 27,
   "metadata": {},
   "outputs": [
    {
     "data": {
      "text/plain": [
       "Embedding(30538, 768)"
      ]
     },
     "execution_count": 27,
     "metadata": {},
     "output_type": "execute_result"
    }
   ],
   "source": [
    "new_tokens = ['UA','FA','PA','FH', 'UH', 'RH','FE', 'UE','RF', 'RC', 'B', 'C','M', 'S',\n",
    "    'T0', 'T1', 'T2', 'T3', 'T4', 'T5', 'T6', 'T7', 'T8', 'TMAX', \n",
    "    'Q1', 'Q2', 'Q3']\n",
    "\n",
    "tokenizer.add_tokens(new_tokens)\n",
    "\n",
    "model.resize_token_embeddings(len(tokenizer))  # Adjust model embedding size to include new tokens\n"
   ]
  },
  {
   "cell_type": "code",
   "execution_count": 28,
   "metadata": {},
   "outputs": [],
   "source": [
    "class DaTuDataset(Dataset):\n",
    "    def __init__(self, sequences, scores, tokenizer, max_length=512):\n",
    "        self.sequences = sequences\n",
    "        self.scores = scores\n",
    "        self.tokenizer = tokenizer\n",
    "        self.max_length = max_length\n",
    "\n",
    "    def __len__(self):\n",
    "        return len(self.sequences)\n",
    "\n",
    "    def __getitem__(self, idx):\n",
    "        sequence = self.sequences[idx]\n",
    "        score = self.scores[idx]\n",
    "        \n",
    "        # Tokenize the sequence\n",
    "        inputs = self.tokenizer.encode_plus(\n",
    "            sequence,\n",
    "            add_special_tokens=True,  # Add '[CLS]' and '[SEP]'\n",
    "            max_length=self.max_length,  # Max length to truncate/pad\n",
    "            padding='max_length',  # Pad to max_length\n",
    "            truncation=True,\n",
    "            return_attention_mask=True,\n",
    "            return_tensors='pt'  # Return PyTorch tensors\n",
    "        )\n",
    "        return {\n",
    "            'input_ids': inputs['input_ids'],\n",
    "            'attention_mask': inputs['attention_mask'],\n",
    "            'labels': torch.tensor(score, dtype=torch.float)\n",
    "        }\n",
    "        #inputs.input_ids.squeeze(0), inputs.attention_mask.squeeze(0), torch.tensor(score, dtype=torch.float)\n"
   ]
  },
  {
   "cell_type": "code",
   "execution_count": 29,
   "metadata": {},
   "outputs": [
    {
     "name": "stdout",
     "output_type": "stream",
     "text": [
      "cuda\n"
     ]
    },
    {
     "data": {
      "text/plain": [
       "BertForSequenceClassification(\n",
       "  (bert): BertModel(\n",
       "    (embeddings): BertEmbeddings(\n",
       "      (word_embeddings): Embedding(30538, 768)\n",
       "      (position_embeddings): Embedding(512, 768)\n",
       "      (token_type_embeddings): Embedding(2, 768)\n",
       "      (LayerNorm): LayerNorm((768,), eps=1e-12, elementwise_affine=True)\n",
       "      (dropout): Dropout(p=0.1, inplace=False)\n",
       "    )\n",
       "    (encoder): BertEncoder(\n",
       "      (layer): ModuleList(\n",
       "        (0-11): 12 x BertLayer(\n",
       "          (attention): BertAttention(\n",
       "            (self): BertSelfAttention(\n",
       "              (query): Linear(in_features=768, out_features=768, bias=True)\n",
       "              (key): Linear(in_features=768, out_features=768, bias=True)\n",
       "              (value): Linear(in_features=768, out_features=768, bias=True)\n",
       "              (dropout): Dropout(p=0.1, inplace=False)\n",
       "            )\n",
       "            (output): BertSelfOutput(\n",
       "              (dense): Linear(in_features=768, out_features=768, bias=True)\n",
       "              (LayerNorm): LayerNorm((768,), eps=1e-12, elementwise_affine=True)\n",
       "              (dropout): Dropout(p=0.1, inplace=False)\n",
       "            )\n",
       "          )\n",
       "          (intermediate): BertIntermediate(\n",
       "            (dense): Linear(in_features=768, out_features=3072, bias=True)\n",
       "            (intermediate_act_fn): GELUActivation()\n",
       "          )\n",
       "          (output): BertOutput(\n",
       "            (dense): Linear(in_features=3072, out_features=768, bias=True)\n",
       "            (LayerNorm): LayerNorm((768,), eps=1e-12, elementwise_affine=True)\n",
       "            (dropout): Dropout(p=0.1, inplace=False)\n",
       "          )\n",
       "        )\n",
       "      )\n",
       "    )\n",
       "    (pooler): BertPooler(\n",
       "      (dense): Linear(in_features=768, out_features=768, bias=True)\n",
       "      (activation): Tanh()\n",
       "    )\n",
       "  )\n",
       "  (dropout): Dropout(p=0.1, inplace=False)\n",
       "  (classifier): Linear(in_features=768, out_features=1, bias=True)\n",
       ")"
      ]
     },
     "execution_count": 29,
     "metadata": {},
     "output_type": "execute_result"
    }
   ],
   "source": [
    "# chceck if cuda is available\n",
    "device = torch.device('cuda' if torch.cuda.is_available() else 'cpu')\n",
    "print(device)\n",
    "model.to(device)"
   ]
  },
  {
   "cell_type": "code",
   "execution_count": 30,
   "metadata": {},
   "outputs": [],
   "source": [
    "# Create the dataset and dataloader\n",
    "dataset = DaTuDataset(sequences,  scores, tokenizer)\n",
    "\n",
    "# reporoducibility\n",
    "seed = 42\n",
    "torch.manual_seed(seed)\n",
    "np.random.seed(seed)\n",
    "torch.backends.cudnn.deterministic = True\n",
    "torch.random.manual_seed(seed)\n",
    "g = torch.Generator().manual_seed(seed)\n",
    "\n",
    "train_size = int(0.8 * len(dataset))\n",
    "val_size = len(dataset) - train_size\n",
    "train_dataset, val_dataset = random_split(dataset, [train_size, val_size], generator=g)\n",
    "\n",
    "train_dataloader = DataLoader(train_dataset, batch_size=8, shuffle=True, collate_fn=None, worker_init_fn=seed, generator=g)\n",
    "val_dataloader = DataLoader(val_dataset, batch_size=8, shuffle=False, collate_fn=None, worker_init_fn=seed, generator=g)\n"
   ]
  },
  {
   "cell_type": "code",
   "execution_count": 31,
   "metadata": {},
   "outputs": [
    {
     "data": {
      "text/plain": [
       "254"
      ]
     },
     "execution_count": 31,
     "metadata": {},
     "output_type": "execute_result"
    }
   ],
   "source": [
    "len(dataset)"
   ]
  },
  {
   "cell_type": "code",
   "execution_count": 32,
   "metadata": {},
   "outputs": [
    {
     "name": "stderr",
     "output_type": "stream",
     "text": [
      "/localhome/pagand/projects/mygitsDaTu/AITutor_SeqModeling/myenv/lib/python3.8/site-packages/transformers/optimization.py:521: FutureWarning: This implementation of AdamW is deprecated and will be removed in a future version. Use the PyTorch implementation torch.optim.AdamW instead, or set `no_deprecation_warning=True` to disable this warning\n",
      "  warnings.warn(\n"
     ]
    }
   ],
   "source": [
    "# optimizer = torch.optim.Adam(model.parameters(), lr=1e-5)\n",
    "# Optimizer and Learning Rate Scheduler\n",
    "epochs = 50\n",
    "optimizer = AdamW(model.parameters(), lr=5e-5)\n",
    "total_steps = len(train_dataloader) * epochs\n",
    "scheduler = get_linear_schedule_with_warmup(optimizer, num_warmup_steps=4, num_training_steps=total_steps)\n"
   ]
  },
  {
   "cell_type": "code",
   "execution_count": 33,
   "metadata": {},
   "outputs": [],
   "source": [
    "# Training loop\n",
    "def train_val_loop(model, train_dataloader, val_dataloader, optimizer, scheduler, epochs):\n",
    "    for epoch in range(epochs):\n",
    "        model.train()\n",
    "        total_loss = 0\n",
    "        i = 0\n",
    "        for batch in train_dataloader:\n",
    "\n",
    "            batch = {k: v.squeeze(1).to(device) for k, v in batch.items()}  # Move batch to device\n",
    "            outputs = model(**batch)\n",
    "\n",
    "            # input_ids, attention_mask, labels = [b.to(device) for b in batch]\n",
    "            # outputs = model(input_ids, attention_mask=attention_mask, labels=labels.float())\n",
    "            \n",
    "            loss = outputs.loss\n",
    "            total_loss += loss.item()\n",
    "            \n",
    "            optimizer.zero_grad()\n",
    "            loss.backward()\n",
    "            torch.nn.utils.clip_grad_norm_(model.parameters(), 1.0)  # Gradient clipping\n",
    "            optimizer.step()\n",
    "            scheduler.step()\n",
    "            \n",
    "        avg_train_loss = total_loss / len(train_dataloader)\n",
    "        wandb.log({\"train_loss\": avg_train_loss, 'epoch': epoch+1})\n",
    "\n",
    "        # Validation loop\n",
    "        model.eval()\n",
    "        val_loss = 0\n",
    "        for batch in val_dataloader:\n",
    "            i+=1\n",
    "            batch = {k: v.squeeze(1).to(device) for k, v in batch.items()}  # Move batch to device\n",
    "            with torch.no_grad():\n",
    "                outputs = model(**batch)\n",
    "                loss = outputs.loss\n",
    "                val_loss += loss.item()\n",
    "        \n",
    "        avg_val_loss = val_loss / len(val_dataloader)\n",
    "        wandb.log({\"validation_loss\": avg_val_loss, 'epoch': epoch+1})\n",
    "\n",
    "\n",
    "        if epoch % 5 == 0:\n",
    "            print(f\"Epoch {epoch + 1}/{epochs} | Train Loss: {avg_train_loss:.3f} | Validation Loss: {avg_val_loss:.3f}\")\n"
   ]
  },
  {
   "cell_type": "code",
   "execution_count": 35,
   "metadata": {},
   "outputs": [],
   "source": [
    "# no wandb cloud logging\n",
    "os.environ[\"WANDB_MODE\"] = \"offline\""
   ]
  },
  {
   "cell_type": "code",
   "execution_count": 36,
   "metadata": {},
   "outputs": [
    {
     "name": "stdout",
     "output_type": "stream",
     "text": [
      "Epoch 1/50 | Train Loss: 0.098 | Validation Loss: 0.096\n",
      "Epoch 6/50 | Train Loss: 0.066 | Validation Loss: 0.064\n",
      "Epoch 11/50 | Train Loss: 0.064 | Validation Loss: 0.067\n",
      "Epoch 16/50 | Train Loss: 0.061 | Validation Loss: 0.064\n",
      "Epoch 21/50 | Train Loss: 0.047 | Validation Loss: 0.064\n",
      "Epoch 26/50 | Train Loss: 0.031 | Validation Loss: 0.103\n",
      "Epoch 31/50 | Train Loss: 0.027 | Validation Loss: 0.051\n",
      "Epoch 36/50 | Train Loss: 0.026 | Validation Loss: 0.046\n",
      "Epoch 41/50 | Train Loss: 0.023 | Validation Loss: 0.048\n",
      "Epoch 46/50 | Train Loss: 0.022 | Validation Loss: 0.049\n"
     ]
    }
   ],
   "source": [
    "train_val_loop(model, train_dataloader, val_dataloader, optimizer, scheduler, epochs)"
   ]
  },
  {
   "cell_type": "code",
   "execution_count": 37,
   "metadata": {},
   "outputs": [],
   "source": [
    "# create a list of prediction and actual values for the valiadation set\n",
    "y_pred = []\n",
    "y_true = []\n",
    "model.eval()\n",
    "for batch in val_dataloader:\n",
    "    batch = {k: v.squeeze(1).to(device) for k, v in batch.items()}  # Move batch to device\n",
    "    with torch.no_grad():\n",
    "        outputs = model(**batch)\n",
    "        y_pred.extend(outputs.logits.squeeze(1).tolist())\n",
    "        y_true.extend(batch['labels'].tolist())"
   ]
  },
  {
   "cell_type": "code",
   "execution_count": 38,
   "metadata": {},
   "outputs": [
    {
     "name": "stdout",
     "output_type": "stream",
     "text": [
      "[[5. 3. 0. 0.]\n",
      " [0. 9. 4. 3.]\n",
      " [4. 4. 6. 5.]\n",
      " [0. 1. 1. 2.]]\n"
     ]
    }
   ],
   "source": [
    "# calculate the confusion matrix by values 0-0.25, 0.25-`0.5, 0.5-0.75, 0.75-1\n",
    "y_pred = np.array(y_pred)\n",
    "y_true = np.array(y_true)\n",
    "y_pred_bin = np.round(y_pred, 2)\n",
    "y_true_bin = np.round(y_true, 2)\n",
    "confusion_matrix = np.zeros((4, 4))\n",
    "for i in range(4):\n",
    "    for j in range(4):\n",
    "        confusion_matrix[i, j] = np.sum((y_pred_bin >= i*0.25) & (y_pred_bin < (i+1)*0.25) & (y_true_bin >= j*0.25) & (y_true_bin < (j+1)*0.25))\n",
    "print(confusion_matrix)"
   ]
  },
  {
   "cell_type": "code",
   "execution_count": 39,
   "metadata": {},
   "outputs": [
    {
     "data": {
      "image/png": "[encoded data removed]",
      "text/plain": [
       "<Figure size 640x480 with 1 Axes>"
      ]
     },
     "metadata": {},
     "output_type": "display_data"
    }
   ],
   "source": [
    "# plot y_pred vs y_true\n",
    "import matplotlib.pyplot as plt\n",
    "plt.scatter(y_true, y_pred)\n",
    "plt.xlabel('True')\n",
    "plt.ylabel('Predicted')\n",
    "# plot the line y=x\n",
    "plt.plot([0, 1], [0, 1], color='red', lw=2)\n",
    "plt.show()"
   ]
  },
  {
   "cell_type": "code",
   "execution_count": 40,
   "metadata": {},
   "outputs": [
    {
     "data": {
      "image/png": "[encoded data removed]",
      "text/plain": [
       "<Figure size 640x480 with 2 Axes>"
      ]
     },
     "metadata": {},
     "output_type": "display_data"
    }
   ],
   "source": [
    "# plot the confusion matrix\n",
    "sns.heatmap(confusion_matrix, annot=True, fmt='g')\n",
    "plt.xlabel('Predicted')\n",
    "plt.ylabel('True')\n",
    "plt.show()\n"
   ]
  },
  {
   "cell_type": "code",
   "execution_count": 41,
   "metadata": {},
   "outputs": [
    {
     "name": "stdout",
     "output_type": "stream",
     "text": [
      "max prediction:\n",
      "['Q2', 'FA', 'T4', 'FE', 'T6', 'C', 'T0', 'FA', 'T3', 'FA', 'T5', 'FH', 'T0', 'FA', 'T5', 'UA', 'T0', 'FE', 'T5', 'C', 'T0', 'FH', 'T0', 'FA', 'T7', 'FE', 'T4', 'S', 'T2', 'UE', 'T5', 'UE', 'T3', 'FA', 'T7', 'C', 'T0', 'C', 'T3', 'FH', 'T4', 'FA', 'T7', 'FA', 'T2', 'FA', 'T5', 'UA', 'T0', 'FH', 'T0', 'UH', 'T1', 'C', 'T2', 'FE', 'T2', 'UE', 'T2', 'UE', 'T6', 'UE', 'T6', 'FH', 'T6', 'S', 'T2', 'S', 'T1', 'S', 'T3', 'FA', 'T6', 'UA', 'T0', 'UH', 'T4', 'S', 'T3', 'S', 'T0', 'UH', 'T3', 'FE', 'T6', 'S', 'T1', 'S', 'T0', 'S', 'T4', 'UE', 'T5', 'FA', 'T5', 'S', 'T1', 'S', 'T1', 'S', 'T0', 'S', 'T2', 'UE', 'T7', 'RH', 'T1', 'RH', 'T0', 'RH', 'T2', 'UE', 'T3', 'C', 'T1', 'FH', 'T2', 'S', 'T3', 'S', 'T1', 'S', 'T2', 'S', 'T0', 'FE', 'T7', 'C', 'T1', 'FH', 'T6', 'UH', 'T5', 'FA', 'T4', 'FH', 'T0', 'UH', 'T4', 'UH', 'T1', 'S', 'T7', 'FA', 'T3', 'UA', 'T1', 'UA', 'T2', 'UA', 'T0', 'UA', 'T0', 'UA', 'T4', 'UA', 'T0', 'UA', 'T1', 'UA', 'T0', 'FE', 'T7', 'C', 'T0', 'RH', 'T1', 'RH', 'T0', 'FH', 'T2', 'UH', 'T1', 'UH', 'T1', 'FA', 'T4', 'UA', 'T0', 'UA', 'T1', 'FE', 'T4', 'C', 'T0', 'FA', 'T5', 'UA', 'T1', 'FH', 'T1', 'UH', 'T1', 'UH', 'T1', 'FE', 'T5', 'C', 'T0', 'RH', 'T5', 'RH', 'T0', 'FH', 'T2', 'FA', 'T4', 'FA', 'T6', 'FA', 'T4', 'UA', 'T2', 'FH', 'T3', 'UH', 'T0', 'UH', 'T2', 'FE', 'T6', 'UE', 'T4', 'UA', 'T1', 'UA', 'T0', 'UE', 'T1', 'UE', 'T2', 'FH', 'T6', 'UH', 'T1', 'UH', 'T1', 'FE', 'T6', 'FA', 'T6', 'FA', 'T0', 'FA', 'T2', 'UA', 'T0', 'UA', 'T1', 'UA', 'T0', 'UA', 'T0', 'UE', 'T5', 'UE', 'T4', 'C', 'T4', 'UE', 'T4', 'UE', 'T1', 'UE', 'T3', 'UE', 'T3', 'FA', 'T1', 'UA', 'T0', 'FE', 'T3', 'UE', 'T1', 'C', 'T0', 'C', 'T0', 'FA', 'T3', 'FA', 'T4', 'UA', 'T0', 'C', 'T1', 'UA', 'T7', 'UA', 'T1', 'UA', 'T7', 'UA', 'T0', 'UE', 'T6', 'UA', 'T7', 'UA', 'T0', 'UA', 'T0', 'UA', 'T8', 'UA', 'T0', 'UE', 'T0', 'FH', 'T6', 'UH', 'T0', 'UH', 'T0', 'UE', 'T8', 'C', 'T2', 'FH', 'T2', 'UH', 'T0', 'UH', 'T0', 'UE', 'T6', 'UE', 'T2', 'FA', 'T5', 'UA', 'T0', 'FE', 'T7', 'FA', 'T6', 'UA', 'T0', 'UA', 'T1', 'UA', 'T2', 'FA', 'T1', 'UA', 'T1', 'UA', 'T1', 'UA', 'T0', 'UA', 'T1', 'UA', 'T1', 'UA', 'T0', 'UA', 'T1', 'C', 'T5', 'FE', 'T3', 'FA', 'T6', 'UA', 'T0', 'UA', 'T0', 'C', 'T1', 'FE', 'T3', 'FH', 'T3', 'UH', 'T4', 'UH', 'T1', 'FA', 'T7', 'C', 'T1', 'FE', 'T2', 'UE', 'T1', 'FA', 'T3', 'FA', 'T3', 'FH', 'T6', 'UH', 'T0', 'UH', 'T0', 'FA', 'T4', 'FA', 'T2', 'UA', 'T1', 'UA', 'T0', 'UA', 'T0']\n",
      "0.8060895204544067 1.0\n",
      "min prediction:\n",
      "['Q3', 'PA', 'T3', 'RF', 'T1', 'UA', 'T2', 'RF', 'T1', 'FE', 'T5', 'PA', 'T7', 'UA', 'T1', 'UA', 'T1', 'PA', 'T3', 'RF', 'T0', 'FE', 'T2', 'C', 'T0', 'C', 'T1', 'FH', 'T5', 'UH', 'T1', 'UH', 'T1', 'FA', 'T6', 'RF', 'T1', 'UA', 'T7', 'RF', 'T1', 'C', 'T2', 'RH', 'T5', 'RH', 'T0', 'UA', 'T3', 'RF', 'T1', 'FE', 'T7', 'FH', 'T0', 'S', 'T3', 'S', 'T3', 'B', 'T8', 'B', 'T5', 'PA', 'T4', 'PA', 'T4', 'B', 'T3', 'PA', 'T3', 'UA', 'T4', 'UA', 'T1', 'C', 'T2', 'FE', 'T3', 'RF', 'T3', 'RF', 'T4', 'B', 'T3', 'PA', 'T5', 'UA', 'T2', 'UA', 'T2', 'UA', 'T0', 'RF', 'T0', 'UA', 'T2', 'RF', 'T1', 'UA', 'T2', 'RF', 'T1', 'FE', 'T5', 'B', 'T2', 'C', 'T4', 'C', 'T1', 'C', 'T1', 'FH', 'T6', 'UH', 'T1', 'UH', 'T0', 'FE', 'T3', 'PA', 'T4', 'RF', 'T1', 'UE', 'T5', 'FH', 'T2', 'UH', 'T1', 'UH', 'T1', 'PA', 'T6', 'RF', 'T2', 'PA', 'T5', 'RF', 'T1', 'C', 'T6', 'FE', 'T3', 'FH', 'T2', 'UH', 'T1', 'UH', 'T1', 'FA', 'T6', 'UA', 'T1', 'UA', 'T1', 'UA', 'T2', 'RF', 'T1', 'C', 'T0', 'FE', 'T2', 'FH', 'T1', 'UH', 'T1', 'UH', 'T0', 'FA', 'T6', 'RF', 'T1', 'C', 'T5', 'FE', 'T4', 'UA', 'T1', 'UA', 'T0', 'RF', 'T1', 'UE', 'T6', 'UA', 'T1', 'UA', 'T0', 'FH', 'T2', 'UH', 'T0', 'UH', 'T0', 'B', 'T3', 'PA', 'T5', 'UA', 'T1', 'UA', 'T2', 'B', 'T2', 'UA', 'T3', 'PA', 'T0', 'FE', 'T0', 'C', 'T0', 'PA', 'T3', 'UA', 'T1', 'FE', 'T2', 'C', 'T0', 'C', 'T1', 'B', 'T2', 'PA', 'T5', 'PA', 'T4', 'UA', 'T1', 'C', 'T1', 'FE', 'T2', 'RF', 'T1', 'UA', 'T5', 'PA', 'T0', 'RF', 'T1', 'B', 'T3', 'PA', 'T6', 'B', 'T6', 'FH', 'T7', 'UH', 'T0', 'UH', 'T0', 'PA', 'T4', 'UA', 'T1', 'UA', 'T6', 'UA', 'T6', 'UA', 'T1', 'UA', 'T1', 'UA', 'T0', 'PA', 'T1', 'UA', 'T2', 'PA', 'T3', 'PA', 'T1', 'FE', 'T3', 'B', 'T2', 'PA', 'T5', 'PA', 'T3', 'PA', 'T3', 'PA', 'T6', 'UA', 'T1', 'FH', 'T2', 'UH', 'T1', 'UH', 'T0', 'B', 'T5', 'C', 'T5', 'C', 'T0', 'PA', 'T1', 'PA', 'T3', 'PA', 'T1', 'PA', 'T1', 'FH', 'T3', 'UH', 'T0', 'UH', 'T0', 'B', 'T5', 'B', 'T3', 'C', 'T5', 'FA', 'T4', 'UA', 'T0']\n",
      "-0.038703225553035736 0.0\n"
     ]
    }
   ],
   "source": [
    "# visualize the sequence of input in validation with the highest and lowest prediction\n",
    "max_pred = np.argmax(y_pred)\n",
    "min_pred = np.argmin(y_pred)\n",
    "\n",
    "print('max prediction:')\n",
    "print(sequences[max_pred])\n",
    "print(y_pred[max_pred], y_true[max_pred])\n",
    "print('min prediction:')\n",
    "print(sequences[min_pred])\n",
    "print(y_pred[min_pred], y_true[min_pred])\n",
    "\n",
    "\n"
   ]
  },
  {
   "cell_type": "code",
   "execution_count": 42,
   "metadata": {},
   "outputs": [
    {
     "name": "stdout",
     "output_type": "stream",
     "text": [
      "31 49\n",
      "worst prediction:\n",
      "['Q1', 'FA', 'T6', 'FE', 'T7', 'C', 'T0', 'FH', 'T1', 'UE', 'T2', 'FA', 'T7', 'FE', 'T7', 'C', 'T0', 'M', 'T7', 'M', 'T8', 'M', 'T8', 'FA', 'T8', 'C', 'T2', 'FE', 'T6', 'M', 'TMAX', 'FA', 'T8', 'RC', 'T5', 'RC', 'TMAX', 'RC', 'T3', 'RC', 'T4', 'B', 'T5', 'RC', 'T7', 'B', 'T5', 'RC', 'T6', 'FE', 'T3', 'UE', 'T7', 'B', 'T7', 'RC', 'T7', 'RC', 'T4', 'RC', 'T4', 'RC', 'T4', 'RC', 'T4', 'RC', 'T4', 'FA', 'T2', 'FE', 'T4', 'UE', 'T5', 'UE', 'T3', 'UE', 'T4', 'UE', 'T6', 'C', 'T0', 'C', 'T1', 'C', 'T2', 'B', 'T6', 'RC', 'T7', 'RC', 'T4', 'RC', 'T2', 'RC', 'T2', 'RC', 'T2', 'FH', 'T2', 'S', 'T5', 'S', 'T5', 'S', 'T0', 'S', 'T2', 'S', 'T1', 'S', 'T3', 'S', 'T5', 'S', 'T0', 'S', 'T3', 'S', 'T2', 'S', 'T3', 'S', 'T0', 'S', 'T0', 'S', 'T4', 'S', 'T2', 'S', 'T2', 'S', 'T3', 'S', 'T2', 'S', 'T2', 'S', 'T1', 'S', 'T1', 'S', 'T0', 'S', 'T1', 'S', 'T0', 'S', 'T6', 'S', 'T1', 'S', 'T0', 'UH', 'T8', 'UH', 'T6', 'RC', 'T5', 'B', 'T6', 'RC', 'T8', 'RC', 'T3', 'RC', 'T2', 'RC', 'T2', 'FA', 'T1', 'C', 'T1', 'FE', 'T7', 'UE', 'T6', 'B', 'T2', 'FH', 'T5', 'C', 'T8', 'C', 'T0', 'C', 'T1', 'C', 'T0', 'UH', 'T1', 'UH', 'T6', 'FA', 'T4', 'FE', 'T7', 'FH', 'T6', 'UH', 'T3', 'RH', 'T1', 'UH', 'T7', 'FA', 'T2', 'FE', 'T6', 'C', 'T0', 'FH', 'T7', 'UH', 'T1', 'UH', 'T2', 'B', 'T7', 'FA', 'T7', 'FE', 'T5', 'C', 'T0', 'B', 'T7', 'FA', 'T7', 'C', 'T1', 'FE', 'T4', 'FH', 'T0', 'UH', 'T1', 'UH', 'T1', 'B', 'T8', 'B', 'T5', 'B', 'T5', 'B', 'T4', 'UE', 'T7', 'B', 'T1', 'B', 'T6', 'B', 'T7', 'B', 'T8', 'FA', 'T2', 'FA', 'T7', 'FE', 'T4', 'UE', 'T2', 'UE', 'T6', 'UA', 'T0', 'FH', 'T6', 'UH', 'T5', 'UH', 'T2', 'UA', 'T4', 'B', 'T6', 'B', 'T6', 'UA', 'T8', 'UA', 'T4', 'C', 'T0', 'FE', 'T7', 'B', 'T5', 'B', 'T6', 'B', 'T5', 'B', 'T5', 'B', 'T4', 'B', 'T6', 'FA', 'T6', 'B', 'T3', 'FE', 'T5', 'B', 'T7', 'RC', 'T8', 'FA', 'T8', 'UE', 'T1', 'UE', 'T6', 'B', 'T3', 'B', 'T6', 'FA', 'T1', 'FE', 'T5', 'B', 'T8', 'FA', 'T5', 'C', 'T2', 'C', 'T0', 'B', 'TMAX', 'B', 'T3', 'RC', 'T8', 'UA', 'T3', 'FE', 'T3']\n",
      "0.6424769759178162 0.1111111119389534\n",
      "Best prediction:\n",
      "['Q1', 'FA', 'T2', 'UA', 'T1', 'FH', 'T2', 'FE', 'T5', 'FA', 'T2', 'UA', 'T1', 'UA', 'T0', 'FE', 'T2', 'UE', 'T2', 'FA', 'T1', 'FA', 'T1', 'FA', 'T1', 'FE', 'T5', 'UE', 'T0', 'FE', 'T3', 'UE', 'T0', 'FE', 'T3', 'UE', 'T0', 'FA', 'T3', 'FA', 'T0', 'FA', 'T1', 'FA', 'T1', 'FA', 'T2', 'FA', 'T1', 'FA', 'T0', 'FA', 'T1', 'FA', 'T1', 'FA', 'T1', 'FA', 'T1']\n",
      "0.05726731941103935 0.0555555559694767\n"
     ]
    }
   ],
   "source": [
    "# show the sequence with the most accurate and least accurate prediction\n",
    "max_pred = np.argmax(np.abs(y_pred-y_true))\n",
    "min_pred = np.argmin(np.abs(y_pred-y_true))\n",
    "print(max_pred, min_pred)\n",
    "\n",
    "print('worst prediction:')\n",
    "print(sequences[max_pred])\n",
    "print(y_pred[max_pred], y_true[max_pred])\n",
    "print('Best prediction:')\n",
    "print(sequences[min_pred])\n",
    "print(y_pred[min_pred], y_true[min_pred])\n"
   ]
  },
  {
   "cell_type": "code",
   "execution_count": 43,
   "metadata": {},
   "outputs": [
    {
     "data": {
      "image/png": "[encoded data removed]",
      "text/plain": [
       "<Figure size 640x480 with 1 Axes>"
      ]
     },
     "metadata": {},
     "output_type": "display_data"
    }
   ],
   "source": [
    "# sort the values of y_true, then change the y_pred accordingly\n",
    "y_true_sorted = np.sort(y_true)\n",
    "y_pred_sorted = y_pred[np.argsort(y_true)]\n",
    "\n",
    "# compute yerr up and down error\n",
    "yerr = y_pred_sorted - y_true_sorted\n",
    "yerr_up = [0 if x < 0 else x for x in yerr]\n",
    "yerr_down = [0 if x > 0 else -x for x in yerr]\n",
    "yerr_ud = np.array([yerr_down, yerr_up])\n",
    "\n",
    "# plot errorbar  (y_true - y_pred) for each value of y_true\n",
    "plt.errorbar(y_true_sorted,y_true_sorted,yerr= yerr_ud, fmt='o',ecolor = \"red\")\n",
    "plt.xlabel('True')\n",
    "plt.ylabel('True + Error')\n",
    "plt.show()"
   ]
  },
  {
   "cell_type": "code",
   "execution_count": 44,
   "metadata": {},
   "outputs": [
    {
     "name": "stdout",
     "output_type": "stream",
     "text": [
      "MSE: 0.049, MAE: 0.166, R2: 0.406, Max Error: 0.531\n"
     ]
    }
   ],
   "source": [
    "# create metrics for the model from Y_pred and Y_true\n",
    "from sklearn.metrics import mean_squared_error, mean_absolute_error, r2_score\n",
    "mse = mean_squared_error(y_true, y_pred)\n",
    "mae = mean_absolute_error(y_true, y_pred)\n",
    "r2 = r2_score(y_true, y_pred)\n",
    "max_error = np.max(np.abs(y_true - y_pred))\n",
    "print(f\"MSE: {mse:.3f}, MAE: {mae:.3f}, R2: {r2:.3f}, Max Error: {max_error:.3f}\")"
   ]
  },
  {
   "cell_type": "markdown",
   "metadata": {},
   "source": [
    "## simpler model"
   ]
  },
  {
   "cell_type": "code",
   "execution_count": 45,
   "metadata": {},
   "outputs": [
    {
     "data": {
      "text/html": [
       "Changes to your `wandb` environment variables will be ignored because your `wandb` session has already started. For more information on how to modify your settings with `wandb.init()` arguments, please refer to <a href='https://wandb.me/wandb-init' target=\"_blank\">the W&B docs</a>."
      ],
      "text/plain": [
       "<IPython.core.display.HTML object>"
      ]
     },
     "metadata": {},
     "output_type": "display_data"
    },
    {
     "data": {
      "text/html": [
       "Finishing last run (ID:2crva14k) before initializing another..."
      ],
      "text/plain": [
       "<IPython.core.display.HTML object>"
      ]
     },
     "metadata": {},
     "output_type": "display_data"
    },
    {
     "data": {
      "text/html": [
       "<style>\n",
       "    table.wandb td:nth-child(1) { padding: 0 10px; text-align: left ; width: auto;} td:nth-child(2) {text-align: left ; width: 100%}\n",
       "    .wandb-row { display: flex; flex-direction: row; flex-wrap: wrap; justify-content: flex-start; width: 100% }\n",
       "    .wandb-col { display: flex; flex-direction: column; flex-basis: 100%; flex: 1; padding: 10px; }\n",
       "    </style>\n",
       "<div class=\"wandb-row\"><div class=\"wandb-col\"><h3>Run history:</h3><br/><table class=\"wandb\"><tr><td>epoch</td><td>▁▁▁▁▂▂▂▂▂▃▃▃▃▃▃▄▄▄▄▄▅▅▅▅▅▅▆▆▆▆▆▇▇▇▇▇▇███</td></tr><tr><td>train_loss</td><td>██▅▆▅▅▅▄▅▄▄▄▅▄▄▄▃▂▂▃▂▂▂▂▂▂▁▁▁▁▁▁▁▁▁▁▁▁▁▁</td></tr><tr><td>validation_loss</td><td>▇█▃▃▃▄▃▂▄▄▅▂▃▂▃▂▃▂▂▁█▂▂▂▂▁▂▁▁▄▂▃▁▃▂▁▁▂▁▁</td></tr></table><br/></div><div class=\"wandb-col\"><h3>Run summary:</h3><br/><table class=\"wandb\"><tr><td>epoch</td><td>50</td></tr><tr><td>train_loss</td><td>0.02171</td></tr><tr><td>validation_loss</td><td>0.04868</td></tr></table><br/></div></div>"
      ],
      "text/plain": [
       "<IPython.core.display.HTML object>"
      ]
     },
     "metadata": {},
     "output_type": "display_data"
    },
    {
     "data": {
      "text/html": [
       " View run <strong style=\"color:#cdcd00\">bert-base-uncased</strong> at: <a href='https://wandb.ai/marslab/DaTu_prediction/runs/2crva14k' target=\"_blank\">https://wandb.ai/marslab/DaTu_prediction/runs/2crva14k</a><br/> View project at: <a href='https://wandb.ai/marslab/DaTu_prediction' target=\"_blank\">https://wandb.ai/marslab/DaTu_prediction</a><br/>Synced 5 W&B file(s), 0 media file(s), 0 artifact file(s) and 0 other file(s)"
      ],
      "text/plain": [
       "<IPython.core.display.HTML object>"
      ]
     },
     "metadata": {},
     "output_type": "display_data"
    },
    {
     "data": {
      "text/html": [
       "Find logs at: <code>./wandb/run-20240530_160726-2crva14k/logs</code>"
      ],
      "text/plain": [
       "<IPython.core.display.HTML object>"
      ]
     },
     "metadata": {},
     "output_type": "display_data"
    },
    {
     "data": {
      "text/html": [
       "Successfully finished last run (ID:2crva14k). Initializing new run:<br/>"
      ],
      "text/plain": [
       "<IPython.core.display.HTML object>"
      ]
     },
     "metadata": {},
     "output_type": "display_data"
    },
    {
     "data": {
      "text/html": [
       "Tracking run with wandb version 0.17.0"
      ],
      "text/plain": [
       "<IPython.core.display.HTML object>"
      ]
     },
     "metadata": {},
     "output_type": "display_data"
    },
    {
     "data": {
      "text/html": [
       "Run data is saved locally in <code>/local-scratch/localhome/pagand/projects/mygitsDaTu/AITutor_SeqModeling/wandb/run-20240530_162058-3cj321qj</code>"
      ],
      "text/plain": [
       "<IPython.core.display.HTML object>"
      ]
     },
     "metadata": {},
     "output_type": "display_data"
    },
    {
     "data": {
      "text/html": [
       "Syncing run <strong><a href='https://wandb.ai/marslab/DaTu_prediction/runs/3cj321qj' target=\"_blank\">distilbert-base-uncased</a></strong> to <a href='https://wandb.ai/marslab/DaTu_prediction' target=\"_blank\">Weights & Biases</a> (<a href='https://wandb.me/run' target=\"_blank\">docs</a>)<br/>"
      ],
      "text/plain": [
       "<IPython.core.display.HTML object>"
      ]
     },
     "metadata": {},
     "output_type": "display_data"
    },
    {
     "data": {
      "text/html": [
       " View project at <a href='https://wandb.ai/marslab/DaTu_prediction' target=\"_blank\">https://wandb.ai/marslab/DaTu_prediction</a>"
      ],
      "text/plain": [
       "<IPython.core.display.HTML object>"
      ]
     },
     "metadata": {},
     "output_type": "display_data"
    },
    {
     "data": {
      "text/html": [
       " View run at <a href='https://wandb.ai/marslab/DaTu_prediction/runs/3cj321qj' target=\"_blank\">https://wandb.ai/marslab/DaTu_prediction/runs/3cj321qj</a>"
      ],
      "text/plain": [
       "<IPython.core.display.HTML object>"
      ]
     },
     "metadata": {},
     "output_type": "display_data"
    },
    {
     "data": {
      "text/html": [
       "<button onClick=\"this.nextSibling.style.display='block';this.style.display='none';\">Display W&B run</button><iframe src='https://wandb.ai/marslab/DaTu_prediction/runs/3cj321qj?jupyter=true' style='border:none;width:100%;height:420px;display:none;'></iframe>"
      ],
      "text/plain": [
       "<wandb.sdk.wandb_run.Run at 0x7f5d6cf62e50>"
      ]
     },
     "execution_count": 45,
     "metadata": {},
     "output_type": "execute_result"
    }
   ],
   "source": [
    "wandb.init(project=\"DaTu_prediction\", entity=\"marslab\", name = \"distilbert-base-uncased\")"
   ]
  },
  {
   "cell_type": "code",
   "execution_count": 34,
   "metadata": {},
   "outputs": [
    {
     "name": "stderr",
     "output_type": "stream",
     "text": [
      "Some weights of DistilBertForSequenceClassification were not initialized from the model checkpoint at distilbert-base-uncased and are newly initialized: ['classifier.bias', 'classifier.weight', 'pre_classifier.bias', 'pre_classifier.weight']\n",
      "You should probably TRAIN this model on a down-stream task to be able to use it for predictions and inference.\n"
     ]
    }
   ],
   "source": [
    "from transformers import DistilBertTokenizer, DistilBertForSequenceClassification\n",
    "\n",
    "tokenizer = DistilBertTokenizer.from_pretrained('distilbert-base-uncased')\n",
    "model = DistilBertForSequenceClassification.from_pretrained('distilbert-base-uncased', num_labels=1)"
   ]
  },
  {
   "cell_type": "code",
   "execution_count": 35,
   "metadata": {},
   "outputs": [
    {
     "data": {
      "text/plain": [
       "Embedding(30538, 768)"
      ]
     },
     "execution_count": 35,
     "metadata": {},
     "output_type": "execute_result"
    }
   ],
   "source": [
    "new_tokens = ['UA','FA','PA','FH', 'UH', 'RH','FE', 'UE','RF', 'RC', 'B', 'C','M', 'S',\n",
    "    'T0', 'T1', 'T2', 'T3', 'T4', 'T5', 'T6', 'T7', 'T8', 'TMAX', \n",
    "    'Q1', 'Q2', 'Q3']\n",
    "tokenizer.add_tokens(new_tokens)\n",
    "\n",
    "model.resize_token_embeddings(len(tokenizer))  # Adjust model embedding size to include new tokens\n",
    "#"
   ]
  },
  {
   "cell_type": "code",
   "execution_count": 59,
   "metadata": {},
   "outputs": [],
   "source": [
    "# optional\n",
    "\n",
    "model.classifier = nn.Sequential(\n",
    "    nn.Dropout(0.3),  # Increase dropout\n",
    "    nn.Linear(model.classifier.in_features, 1)\n",
    ")"
   ]
  },
  {
   "cell_type": "code",
   "execution_count": 36,
   "metadata": {},
   "outputs": [
    {
     "name": "stdout",
     "output_type": "stream",
     "text": [
      "cuda\n"
     ]
    },
    {
     "data": {
      "text/plain": [
       "DistilBertForSequenceClassification(\n",
       "  (distilbert): DistilBertModel(\n",
       "    (embeddings): Embeddings(\n",
       "      (word_embeddings): Embedding(30538, 768)\n",
       "      (position_embeddings): Embedding(512, 768)\n",
       "      (LayerNorm): LayerNorm((768,), eps=1e-12, elementwise_affine=True)\n",
       "      (dropout): Dropout(p=0.1, inplace=False)\n",
       "    )\n",
       "    (transformer): Transformer(\n",
       "      (layer): ModuleList(\n",
       "        (0-5): 6 x TransformerBlock(\n",
       "          (attention): MultiHeadSelfAttention(\n",
       "            (dropout): Dropout(p=0.1, inplace=False)\n",
       "            (q_lin): Linear(in_features=768, out_features=768, bias=True)\n",
       "            (k_lin): Linear(in_features=768, out_features=768, bias=True)\n",
       "            (v_lin): Linear(in_features=768, out_features=768, bias=True)\n",
       "            (out_lin): Linear(in_features=768, out_features=768, bias=True)\n",
       "          )\n",
       "          (sa_layer_norm): LayerNorm((768,), eps=1e-12, elementwise_affine=True)\n",
       "          (ffn): FFN(\n",
       "            (dropout): Dropout(p=0.1, inplace=False)\n",
       "            (lin1): Linear(in_features=768, out_features=3072, bias=True)\n",
       "            (lin2): Linear(in_features=3072, out_features=768, bias=True)\n",
       "            (activation): GELUActivation()\n",
       "          )\n",
       "          (output_layer_norm): LayerNorm((768,), eps=1e-12, elementwise_affine=True)\n",
       "        )\n",
       "      )\n",
       "    )\n",
       "  )\n",
       "  (pre_classifier): Linear(in_features=768, out_features=768, bias=True)\n",
       "  (classifier): Linear(in_features=768, out_features=1, bias=True)\n",
       "  (dropout): Dropout(p=0.2, inplace=False)\n",
       ")"
      ]
     },
     "execution_count": 36,
     "metadata": {},
     "output_type": "execute_result"
    }
   ],
   "source": [
    "device = torch.device('cuda' if torch.cuda.is_available() else 'cpu')\n",
    "print(device)\n",
    "\n",
    "model.to(device)"
   ]
  },
  {
   "cell_type": "code",
   "execution_count": 37,
   "metadata": {},
   "outputs": [],
   "source": [
    "# Create the dataset and dataloader\n",
    "dataset = DaTuDataset(sequences,  scores, tokenizer)\n",
    "\n",
    "\n",
    "# reporoducibility\n",
    "seed = 42\n",
    "torch.manual_seed(seed)\n",
    "np.random.seed(seed)\n",
    "torch.backends.cudnn.deterministic = True\n",
    "torch.random.manual_seed(seed)\n",
    "g = torch.Generator().manual_seed(seed)\n",
    "\n",
    "train_size = int(0.8 * len(dataset))\n",
    "val_size = len(dataset) - train_size\n",
    "train_dataset, val_dataset = random_split(dataset, [train_size, val_size], generator=g)\n",
    "\n",
    "train_dataloader = DataLoader(train_dataset, batch_size=8, shuffle=True, collate_fn=None, worker_init_fn=seed, generator=g)\n",
    "val_dataloader = DataLoader(val_dataset, batch_size=8, shuffle=False, collate_fn=None, worker_init_fn=seed, generator=g)"
   ]
  },
  {
   "cell_type": "code",
   "execution_count": 38,
   "metadata": {},
   "outputs": [],
   "source": [
    "epochs = 50\n",
    "optimizer = AdamW(model.parameters(), lr=5e-5)\n",
    "total_steps = len(train_dataloader) * epochs\n",
    "scheduler = get_linear_schedule_with_warmup(optimizer, num_warmup_steps=4, num_training_steps=total_steps)"
   ]
  },
  {
   "cell_type": "code",
   "execution_count": 63,
   "metadata": {},
   "outputs": [],
   "source": [
    "# no wandb cloud logging\n",
    "os.environ[\"WANDB_MODE\"] = \"offline\""
   ]
  },
  {
   "cell_type": "code",
   "execution_count": 64,
   "metadata": {},
   "outputs": [
    {
     "name": "stdout",
     "output_type": "stream",
     "text": [
      "Epoch 1/50 | Train Loss: 0.100 | Validation Loss: 0.054\n",
      "Epoch 6/50 | Train Loss: 0.055 | Validation Loss: 0.053\n"
     ]
    },
    {
     "name": "stderr",
     "output_type": "stream",
     "text": [
      "wandb: ERROR Dropped streaming file chunk (see wandb/debug-internal.log)\n"
     ]
    },
    {
     "name": "stdout",
     "output_type": "stream",
     "text": [
      "Epoch 11/50 | Train Loss: 0.033 | Validation Loss: 0.054\n",
      "Epoch 16/50 | Train Loss: 0.029 | Validation Loss: 0.047\n"
     ]
    },
    {
     "name": "stderr",
     "output_type": "stream",
     "text": [
      "wandb: ERROR Dropped streaming file chunk (see wandb/debug-internal.log)\n"
     ]
    },
    {
     "name": "stdout",
     "output_type": "stream",
     "text": [
      "Epoch 21/50 | Train Loss: 0.025 | Validation Loss: 0.070\n",
      "Epoch 26/50 | Train Loss: 0.024 | Validation Loss: 0.059\n"
     ]
    },
    {
     "name": "stderr",
     "output_type": "stream",
     "text": [
      "wandb: ERROR Dropped streaming file chunk (see wandb/debug-internal.log)\n"
     ]
    },
    {
     "name": "stdout",
     "output_type": "stream",
     "text": [
      "Epoch 31/50 | Train Loss: 0.023 | Validation Loss: 0.050\n",
      "Epoch 36/50 | Train Loss: 0.023 | Validation Loss: 0.055\n"
     ]
    },
    {
     "name": "stderr",
     "output_type": "stream",
     "text": [
      "wandb: ERROR Dropped streaming file chunk (see wandb/debug-internal.log)\n"
     ]
    },
    {
     "name": "stdout",
     "output_type": "stream",
     "text": [
      "Epoch 41/50 | Train Loss: 0.021 | Validation Loss: 0.055\n",
      "Epoch 46/50 | Train Loss: 0.022 | Validation Loss: 0.055\n"
     ]
    },
    {
     "name": "stderr",
     "output_type": "stream",
     "text": [
      "wandb: ERROR Dropped streaming file chunk (see wandb/debug-internal.log)\n"
     ]
    }
   ],
   "source": [
    "train_val_loop(model, train_dataloader, val_dataloader, optimizer, scheduler, epochs)"
   ]
  },
  {
   "cell_type": "code",
   "execution_count": 65,
   "metadata": {},
   "outputs": [
    {
     "name": "stdout",
     "output_type": "stream",
     "text": [
      "[[5. 7. 0. 0.]\n",
      " [1. 5. 5. 3.]\n",
      " [3. 5. 6. 7.]\n",
      " [0. 0. 0. 0.]]\n"
     ]
    },
    {
     "data": {
      "image/png": "[encoded data removed]",
      "text/plain": [
       "<Figure size 640x480 with 2 Axes>"
      ]
     },
     "metadata": {},
     "output_type": "display_data"
    }
   ],
   "source": [
    "# compute a quality metric for the model\n",
    "y_pred = []\n",
    "y_true = []\n",
    "model.eval()\n",
    "for batch in val_dataloader:\n",
    "    batch = {k: v.squeeze(1).to(device) for k, v in batch.items()}  # Move batch to device\n",
    "    with torch.no_grad():\n",
    "        outputs = model(**batch)\n",
    "        y_pred.extend(outputs.logits.squeeze(1).tolist())\n",
    "        y_true.extend(batch['labels'].tolist())\n",
    "\n",
    "# calculate the confusion matrix by values 0-0.25, 0.25-`0.5, 0.5-0.75, 0.75-1\n",
    "y_pred = np.array(y_pred)\n",
    "y_true = np.array(y_true)\n",
    "y_pred_bin = np.round(y_pred, 2)\n",
    "y_true_bin = np.round(y_true, 2)\n",
    "confusion_matrix = np.zeros((4, 4))\n",
    "for i in range(4):\n",
    "    for j in range(4):\n",
    "        confusion_matrix[i, j] = np.sum((y_pred_bin >= i*0.25) & (y_pred_bin < (i+1)*0.25) & (y_true_bin >= j*0.25) & (y_true_bin < (j+1)*0.25))\n",
    "print(confusion_matrix)\n",
    "\n",
    "\n",
    "sns.heatmap(confusion_matrix, annot=True, fmt='g')\n",
    "plt.xlabel('Predicted')\n",
    "plt.ylabel('True')\n",
    "plt.show()\n"
   ]
  },
  {
   "cell_type": "code",
   "execution_count": 66,
   "metadata": {},
   "outputs": [
    {
     "data": {
      "image/png": "[encoded data removed]",
      "text/plain": [
       "<Figure size 640x480 with 1 Axes>"
      ]
     },
     "metadata": {},
     "output_type": "display_data"
    }
   ],
   "source": [
    "# sort the values of y_true, then change the y_pred accordingly\n",
    "y_true_sorted = np.sort(y_true)\n",
    "y_pred_sorted = y_pred[np.argsort(y_true)]\n",
    "\n",
    "# compute yerr up and down error\n",
    "yerr = y_pred_sorted - y_true_sorted\n",
    "yerr_up = [0 if x < 0 else x for x in yerr]\n",
    "yerr_down = [0 if x > 0 else -x for x in yerr]\n",
    "yerr_ud = np.array([yerr_down, yerr_up])\n",
    "\n",
    "# plot errorbar  (y_true - y_pred) for each value of y_true\n",
    "plt.errorbar(y_true_sorted,y_true_sorted,yerr= yerr_ud, fmt='o',ecolor = \"red\")\n",
    "plt.xlabel('True')\n",
    "plt.ylabel('True + Error')\n",
    "plt.show()\n"
   ]
  },
  {
   "cell_type": "code",
   "execution_count": 67,
   "metadata": {},
   "outputs": [
    {
     "name": "stdout",
     "output_type": "stream",
     "text": [
      "MSE: 0.057, MAE: 0.188, R2: 0.313, Max Error: 0.559\n"
     ]
    },
    {
     "name": "stderr",
     "output_type": "stream",
     "text": [
      "wandb: ERROR Dropped streaming file chunk (see wandb/debug-internal.log)\n",
      "wandb: ERROR Dropped streaming file chunk (see wandb/debug-internal.log)\n",
      "wandb: ERROR Dropped streaming file chunk (see wandb/debug-internal.log)\n",
      "wandb: ERROR Dropped streaming file chunk (see wandb/debug-internal.log)\n",
      "wandb: ERROR Dropped streaming file chunk (see wandb/debug-internal.log)\n",
      "wandb: ERROR Dropped streaming file chunk (see wandb/debug-internal.log)\n",
      "wandb: ERROR Dropped streaming file chunk (see wandb/debug-internal.log)\n",
      "wandb: ERROR Dropped streaming file chunk (see wandb/debug-internal.log)\n",
      "wandb: ERROR Dropped streaming file chunk (see wandb/debug-internal.log)\n",
      "wandb: ERROR Dropped streaming file chunk (see wandb/debug-internal.log)\n",
      "wandb: ERROR Dropped streaming file chunk (see wandb/debug-internal.log)\n",
      "wandb: ERROR Dropped streaming file chunk (see wandb/debug-internal.log)\n",
      "wandb: ERROR Dropped streaming file chunk (see wandb/debug-internal.log)\n",
      "wandb: ERROR Dropped streaming file chunk (see wandb/debug-internal.log)\n",
      "wandb: ERROR Dropped streaming file chunk (see wandb/debug-internal.log)\n",
      "wandb: ERROR Dropped streaming file chunk (see wandb/debug-internal.log)\n"
     ]
    }
   ],
   "source": [
    "# create metrics for the model from Y_pred and Y_true\n",
    "from sklearn.metrics import mean_squared_error, mean_absolute_error, r2_score\n",
    "mse = mean_squared_error(y_true, y_pred)\n",
    "mae = mean_absolute_error(y_true, y_pred)\n",
    "r2 = r2_score(y_true, y_pred)\n",
    "max_error = np.max(np.abs(y_true - y_pred))\n",
    "print(f\"MSE: {mse:.3f}, MAE: {mae:.3f}, R2: {r2:.3f}, Max Error: {max_error:.3f}\")"
   ]
  },
  {
   "cell_type": "markdown",
   "metadata": {},
   "source": [
    "## Ciriculum learning"
   ]
  },
  {
   "cell_type": "code",
   "execution_count": 83,
   "metadata": {},
   "outputs": [
    {
     "data": {
      "text/html": [
       "Finishing last run (ID:vl70of7o) before initializing another..."
      ],
      "text/plain": [
       "<IPython.core.display.HTML object>"
      ]
     },
     "metadata": {},
     "output_type": "display_data"
    },
    {
     "data": {
      "text/html": [
       "<style>\n",
       "    table.wandb td:nth-child(1) { padding: 0 10px; text-align: left ; width: auto;} td:nth-child(2) {text-align: left ; width: 100%}\n",
       "    .wandb-row { display: flex; flex-direction: row; flex-wrap: wrap; justify-content: flex-start; width: 100% }\n",
       "    .wandb-col { display: flex; flex-direction: column; flex-basis: 100%; flex: 1; padding: 10px; }\n",
       "    </style>\n",
       "<div class=\"wandb-row\"><div class=\"wandb-col\"><h3>Run history:</h3><br/><table class=\"wandb\"><tr><td>epoch</td><td>▁▁▁▁▂▂▂▂▂▃▃▃▃▃▃▄▄▄▄▄▅▅▅▅▅▅▆▆▆▆▆▇▇▇▇▇▇███</td></tr><tr><td>train_loss</td><td>███▇▇▆▆▅▅▄▅▄▅▄▃▃▄▄▃▄▃▂▂▂▂▂▂▂▂▂▂▁▂▂▂▂▁▁▁▁</td></tr><tr><td>validation_loss</td><td>▇▅▅▃▄█▂▅▁▄▄▃▃▃▄▆▅▂▄▃▄▃▃▄▃▃▄▃▄▆▄▄▃▄▄▄▄▄▄▄</td></tr></table><br/></div><div class=\"wandb-col\"><h3>Run summary:</h3><br/><table class=\"wandb\"><tr><td>epoch</td><td>50</td></tr><tr><td>train_loss</td><td>0.01807</td></tr><tr><td>validation_loss</td><td>0.04012</td></tr></table><br/></div></div>"
      ],
      "text/plain": [
       "<IPython.core.display.HTML object>"
      ]
     },
     "metadata": {},
     "output_type": "display_data"
    },
    {
     "data": {
      "text/html": [
       " View run <strong style=\"color:#cdcd00\">distilbert-Ciriculum</strong> at: <a href='https://wandb.ai/marslab/DaTu_prediction/runs/vl70of7o' target=\"_blank\">https://wandb.ai/marslab/DaTu_prediction/runs/vl70of7o</a><br/> View project at: <a href='https://wandb.ai/marslab/DaTu_prediction' target=\"_blank\">https://wandb.ai/marslab/DaTu_prediction</a><br/>Synced 5 W&B file(s), 0 media file(s), 0 artifact file(s) and 0 other file(s)"
      ],
      "text/plain": [
       "<IPython.core.display.HTML object>"
      ]
     },
     "metadata": {},
     "output_type": "display_data"
    },
    {
     "data": {
      "text/html": [
       "Find logs at: <code>./wandb/run-20240530_151259-vl70of7o/logs</code>"
      ],
      "text/plain": [
       "<IPython.core.display.HTML object>"
      ]
     },
     "metadata": {},
     "output_type": "display_data"
    },
    {
     "data": {
      "text/html": [
       "Successfully finished last run (ID:vl70of7o). Initializing new run:<br/>"
      ],
      "text/plain": [
       "<IPython.core.display.HTML object>"
      ]
     },
     "metadata": {},
     "output_type": "display_data"
    },
    {
     "data": {
      "text/html": [
       "Tracking run with wandb version 0.17.0"
      ],
      "text/plain": [
       "<IPython.core.display.HTML object>"
      ]
     },
     "metadata": {},
     "output_type": "display_data"
    },
    {
     "data": {
      "text/html": [
       "Run data is saved locally in <code>/local-scratch/localhome/pagand/projects/mygitsDaTu/AITutor_SeqModeling/wandb/run-20240530_154631-ep8izqfc</code>"
      ],
      "text/plain": [
       "<IPython.core.display.HTML object>"
      ]
     },
     "metadata": {},
     "output_type": "display_data"
    },
    {
     "data": {
      "text/html": [
       "Syncing run <strong><a href='https://wandb.ai/marslab/DaTu_prediction/runs/ep8izqfc' target=\"_blank\">distilbert-Ciriculum</a></strong> to <a href='https://wandb.ai/marslab/DaTu_prediction' target=\"_blank\">Weights & Biases</a> (<a href='https://wandb.me/run' target=\"_blank\">docs</a>)<br/>"
      ],
      "text/plain": [
       "<IPython.core.display.HTML object>"
      ]
     },
     "metadata": {},
     "output_type": "display_data"
    },
    {
     "data": {
      "text/html": [
       " View project at <a href='https://wandb.ai/marslab/DaTu_prediction' target=\"_blank\">https://wandb.ai/marslab/DaTu_prediction</a>"
      ],
      "text/plain": [
       "<IPython.core.display.HTML object>"
      ]
     },
     "metadata": {},
     "output_type": "display_data"
    },
    {
     "data": {
      "text/html": [
       " View run at <a href='https://wandb.ai/marslab/DaTu_prediction/runs/ep8izqfc' target=\"_blank\">https://wandb.ai/marslab/DaTu_prediction/runs/ep8izqfc</a>"
      ],
      "text/plain": [
       "<IPython.core.display.HTML object>"
      ]
     },
     "metadata": {},
     "output_type": "display_data"
    },
    {
     "data": {
      "text/html": [
       "<button onClick=\"this.nextSibling.style.display='block';this.style.display='none';\">Display W&B run</button><iframe src='https://wandb.ai/marslab/DaTu_prediction/runs/ep8izqfc?jupyter=true' style='border:none;width:100%;height:420px;display:none;'></iframe>"
      ],
      "text/plain": [
       "<wandb.sdk.wandb_run.Run at 0x7f79dde57ca0>"
      ]
     },
     "execution_count": 83,
     "metadata": {},
     "output_type": "execute_result"
    }
   ],
   "source": [
    "wandb.init(project=\"DaTu_prediction\", entity=\"marslab\", name = \"distilbert-Ciriculum\")\n"
   ]
  },
  {
   "cell_type": "code",
   "execution_count": 39,
   "metadata": {},
   "outputs": [],
   "source": [
    "class CurriculumDaTuDatasett(Dataset):\n",
    "    def __init__(self, sequences, scores, tokenizer, max_length=512):\n",
    "        self.sequences = sequences\n",
    "        self.scores = scores\n",
    "        self.tokenizer = tokenizer\n",
    "        self.max_length = max_length\n",
    "\n",
    "        # Compute complexity of each sequence (e.g., length of the sequence)\n",
    "        self.complexity = [len(seq) for seq in sequences]\n",
    "\n",
    "        # Sort the dataset by complexity\n",
    "        self._sort_by_complexity()\n",
    "\n",
    "    def _sort_by_complexity(self):\n",
    "        # Sort sequences, problem_ids, grades, and complexity based on complexity\n",
    "        combined = sorted(zip(self.sequences, self.scores, self.complexity), key=lambda x: x[2])\n",
    "        self.sequences, self.scores, self.complexity = zip(*combined)\n",
    "\n",
    "    def __len__(self):\n",
    "        return len(self.sequences)\n",
    "\n",
    "    def __getitem__(self, idx):\n",
    "        sequence = self.sequences[idx]\n",
    "        score = self.scores[idx]\n",
    "\n",
    "        # Tokenize the sequence\n",
    "        inputs = self.tokenizer.encode_plus(\n",
    "            sequence,\n",
    "            add_special_tokens=True,  # Add '[CLS]' and '[SEP]'\n",
    "            max_length=self.max_length,  # Max length to truncate/pad\n",
    "            padding='max_length',  # Pad to max_length\n",
    "            truncation=True,\n",
    "            return_attention_mask=True,\n",
    "            return_tensors='pt'  # Return PyTorch tensors\n",
    "        )\n",
    "        return {\n",
    "            'input_ids': inputs['input_ids'],\n",
    "            'attention_mask': inputs['attention_mask'],\n",
    "            'labels': torch.tensor(score, dtype=torch.float)\n",
    "        }"
   ]
  },
  {
   "cell_type": "code",
   "execution_count": 40,
   "metadata": {},
   "outputs": [],
   "source": [
    "# Create the dataset and dataloader\n",
    "dataset = CurriculumDaTuDatasett(sequences,  scores, tokenizer)\n",
    "\n",
    "# reporoducibility\n",
    "seed = 42\n",
    "torch.manual_seed(seed)\n",
    "np.random.seed(seed)\n",
    "torch.backends.cudnn.deterministic = True\n",
    "torch.random.manual_seed(seed)\n",
    "g = torch.Generator().manual_seed(seed)\n",
    "\n",
    "\n",
    "train_size = int(0.8 * len(dataset))\n",
    "val_size = len(dataset) - train_size\n",
    "train_dataset, val_dataset = random_split(dataset, [train_size, val_size], generator=g)\n",
    "\n",
    "train_dataloader = DataLoader(train_dataset, batch_size=4, shuffle=True, collate_fn=None, worker_init_fn=seed, generator=g)\n",
    "val_dataloader = DataLoader(val_dataset, batch_size=4, shuffle=False, collate_fn=None, worker_init_fn=seed, generator=g)"
   ]
  },
  {
   "cell_type": "code",
   "execution_count": 41,
   "metadata": {},
   "outputs": [],
   "source": [
    "epochs = 50\n",
    "optimizer = AdamW(model.parameters(), lr=5e-5)\n",
    "total_steps = len(train_dataloader) * epochs\n",
    "scheduler = get_linear_schedule_with_warmup(optimizer, num_warmup_steps=4, num_training_steps=total_steps)"
   ]
  },
  {
   "cell_type": "code",
   "execution_count": 87,
   "metadata": {},
   "outputs": [
    {
     "name": "stdout",
     "output_type": "stream",
     "text": [
      "Epoch 1/50 | Train Loss: 0.027 | Validation Loss: 0.033\n",
      "Epoch 6/50 | Train Loss: 0.026 | Validation Loss: 0.032\n",
      "Epoch 11/50 | Train Loss: 0.023 | Validation Loss: 0.033\n",
      "Epoch 16/50 | Train Loss: 0.022 | Validation Loss: 0.035\n",
      "Epoch 21/50 | Train Loss: 0.021 | Validation Loss: 0.035\n",
      "Epoch 26/50 | Train Loss: 0.021 | Validation Loss: 0.036\n",
      "Epoch 31/50 | Train Loss: 0.020 | Validation Loss: 0.042\n",
      "Epoch 36/50 | Train Loss: 0.019 | Validation Loss: 0.039\n",
      "Epoch 41/50 | Train Loss: 0.017 | Validation Loss: 0.042\n",
      "Epoch 46/50 | Train Loss: 0.016 | Validation Loss: 0.041\n"
     ]
    }
   ],
   "source": [
    "train_val_loop(model, train_dataloader, val_dataloader, optimizer, scheduler, epochs)"
   ]
  },
  {
   "cell_type": "code",
   "execution_count": 74,
   "metadata": {},
   "outputs": [
    {
     "name": "stdout",
     "output_type": "stream",
     "text": [
      "[[ 3.  3.  0.  1.]\n",
      " [ 1. 14.  6.  1.]\n",
      " [ 1.  5.  9.  5.]\n",
      " [ 0.  0.  0.  0.]]\n"
     ]
    },
    {
     "data": {
      "image/png": "[encoded data removed]",
      "text/plain": [
       "<Figure size 640x480 with 2 Axes>"
      ]
     },
     "metadata": {},
     "output_type": "display_data"
    }
   ],
   "source": [
    "# compute a quality metric for the model\n",
    "y_pred = []\n",
    "y_true = []\n",
    "model.eval()\n",
    "for batch in val_dataloader:\n",
    "    batch = {k: v.squeeze(1).to(device) for k, v in batch.items()}  # Move batch to device\n",
    "    with torch.no_grad():\n",
    "        outputs = model(**batch)\n",
    "        y_pred.extend(outputs.logits.squeeze(1).tolist())\n",
    "        y_true.extend(batch['labels'].tolist())\n",
    "\n",
    "# calculate the confusion matrix by values 0-0.25, 0.25-`0.5, 0.5-0.75, 0.75-1\n",
    "y_pred = np.array(y_pred)\n",
    "y_true = np.array(y_true)\n",
    "y_pred_bin = np.round(y_pred, 2)\n",
    "y_true_bin = np.round(y_true, 2)\n",
    "confusion_matrix = np.zeros((4, 4))\n",
    "for i in range(4):\n",
    "    for j in range(4):\n",
    "        confusion_matrix[i, j] = np.sum((y_pred_bin >= i*0.25) & (y_pred_bin < (i+1)*0.25) & (y_true_bin >= j*0.25) & (y_true_bin < (j+1)*0.25))\n",
    "print(confusion_matrix)\n",
    "\n",
    "\n",
    "sns.heatmap(confusion_matrix, annot=True, fmt='g')\n",
    "plt.xlabel('Predicted')\n",
    "plt.ylabel('True')\n",
    "plt.show()"
   ]
  },
  {
   "cell_type": "code",
   "execution_count": 79,
   "metadata": {},
   "outputs": [
    {
     "data": {
      "image/png": "[encoded data removed]",
      "text/plain": [
       "<Figure size 640x480 with 1 Axes>"
      ]
     },
     "metadata": {},
     "output_type": "display_data"
    }
   ],
   "source": [
    "# sort the values of y_true, then change the y_pred accordingly\n",
    "y_true_sorted = np.sort(y_true)\n",
    "y_pred_sorted = y_pred[np.argsort(y_true)]\n",
    "\n",
    "# compute yerr up and down error\n",
    "yerr = y_pred_sorted - y_true_sorted\n",
    "yerr_up = [0 if x < 0 else x for x in yerr]\n",
    "yerr_down = [0 if x > 0 else -x for x in yerr]\n",
    "yerr_ud = np.array([yerr_down, yerr_up])\n",
    "\n",
    "# plot errorbar  (y_true - y_pred) for each value of y_true\n",
    "plt.errorbar(y_true_sorted,y_true_sorted*0,yerr= yerr_ud, fmt='o',ecolor = \"red\")\n",
    "plt.xlabel('True')\n",
    "plt.ylabel('True + Error')\n",
    "plt.show()\n"
   ]
  },
  {
   "cell_type": "code",
   "execution_count": 82,
   "metadata": {},
   "outputs": [
    {
     "name": "stdout",
     "output_type": "stream",
     "text": [
      "max prediction:\n",
      "['Q1', 'FA', 'T6', 'FH', 'T3', 'C', 'T5', 'UA', 'T2', 'FE', 'T5', 'UE', 'T4', 'UE', 'T5', 'UE', 'T2', 'FA', 'T7', 'C', 'T1', 'FH', 'T0', 'UH', 'T1', 'UH', 'T1', 'C', 'T8', 'C', 'T0', 'C', 'T0', 'FA', 'T4', 'C', 'T1', 'FE', 'T2', 'C', 'T0', 'UE', 'T5', 'UA', 'T5', 'UE', 'T1', 'UE', 'T2', 'UE', 'T3', 'UE', 'T6', 'UE', 'T8', 'UE', 'T3', 'FH', 'T8', 'UH', 'T2', 'UH', 'T1', 'C', 'TMAX', 'FE', 'T2', 'UE', 'T3', 'FH', 'T4', 'UH', 'T1', 'UH', 'T0', 'C', 'T6', 'FA', 'T6', 'FE', 'T3', 'FH', 'T4', 'UH', 'T0', 'UH', 'T0', 'FA', 'T3', 'FA', 'TMAX', 'C', 'T1', 'FE', 'T6', 'UE', 'T1', 'FA', 'T2', 'FH', 'T0', 'UH', 'T0', 'UH', 'T0', 'C', 'T2', 'FE', 'T2', 'FA', 'T4', 'FH', 'T1', 'UH', 'T0', 'UH', 'T0', 'FE', 'T5', 'RC', 'T7', 'C', 'T6', 'FE', 'T2', 'FA', 'T2', 'FE', 'T4', 'FH', 'T0', 'UH', 'T0', 'UH', 'T0', 'C', 'T4', 'FA', 'T2', 'C', 'T1', 'FE', 'T4', 'C', 'T0', 'FA', 'T4', 'FH', 'T1', 'UH', 'T0', 'UH', 'T0', 'FE', 'T3', 'C', 'T0', 'FA', 'T4', 'FH', 'T0', 'UH', 'T2', 'UH', 'T1', 'C', 'T1', 'FE', 'T4', 'UE', 'T1', 'UE', 'T2', 'FA', 'T3', 'C', 'T2', 'FE', 'T1', 'FA', 'T3', 'C', 'T0', 'FE', 'T0', 'FH', 'T0', 'UE', 'T1', 'FA', 'T2', 'FE', 'T3', 'C', 'T0', 'FH', 'T4', 'UH', 'T1', 'UH', 'T0', 'FA', 'T2', 'C', 'T0', 'C', 'T1', 'FE', 'T3']\n",
      "0.7280200123786926 0.5\n",
      "min prediction:\n",
      "['Q2', 'FA', 'T2', 'FE', 'T3', 'FH', 'T4', 'FE', 'T1', 'FA', 'T7', 'FA', 'T2', 'UA', 'T0', 'UE', 'T1', 'FA', 'T0', 'UA', 'T0', 'FA', 'T1', 'UA', 'T0', 'FA', 'T4', 'C', 'T0', 'FE', 'T0', 'FA', 'T2', 'FE', 'T2', 'C', 'T0', 'C', 'T1', 'FA', 'T1', 'FA', 'T6', 'UA', 'T0', 'FE', 'T2', 'FA', 'T2', 'C', 'T1', 'FA', 'T8', 'UA', 'T0', 'C', 'T0', 'UA', 'T1', 'UA', 'T0', 'FE', 'T1', 'FA', 'T1', 'FA', 'T3', 'UA', 'T0', 'FE', 'T1', 'FA', 'T3', 'FA', 'T2', 'FA', 'T0', 'FA', 'T1', 'FA', 'T0', 'FA', 'T0', 'FA', 'T0', 'UA', 'T0', 'C', 'T0', 'FE', 'T1', 'FA', 'T5', 'UA', 'T1', 'FA', 'T0', 'FA', 'T1', 'FA', 'T1', 'FA', 'T1', 'UA', 'T1', 'C', 'T0', 'C', 'T1', 'FA', 'T3', 'UA', 'T1', 'FA', 'T1', 'UA', 'T0', 'C', 'T0', 'FA', 'T7', 'FE', 'T3', 'UE', 'T6', 'UE', 'T2', 'UE', 'T1', 'UE', 'T1', 'FA', 'T0', 'UA', 'T0', 'FA', 'T2', 'UA', 'T0', 'FA', 'T3', 'UA', 'T0', 'FA', 'T4', 'UA', 'T0', 'FE', 'T1', 'C', 'T0']\n",
      "-0.0006476363632827997 0.0555555559694767\n",
      "31 5\n",
      "worst prediction:\n",
      "['Q1', 'FA', 'T6', 'FE', 'T7', 'C', 'T0', 'FH', 'T1', 'UE', 'T2', 'FA', 'T7', 'FE', 'T7', 'C', 'T0', 'M', 'T7', 'M', 'T8', 'M', 'T8', 'FA', 'T8', 'C', 'T2', 'FE', 'T6', 'M', 'TMAX', 'FA', 'T8', 'RC', 'T5', 'RC', 'TMAX', 'RC', 'T3', 'RC', 'T4', 'B', 'T5', 'RC', 'T7', 'B', 'T5', 'RC', 'T6', 'FE', 'T3', 'UE', 'T7', 'B', 'T7', 'RC', 'T7', 'RC', 'T4', 'RC', 'T4', 'RC', 'T4', 'RC', 'T4', 'RC', 'T4', 'FA', 'T2', 'FE', 'T4', 'UE', 'T5', 'UE', 'T3', 'UE', 'T4', 'UE', 'T6', 'C', 'T0', 'C', 'T1', 'C', 'T2', 'B', 'T6', 'RC', 'T7', 'RC', 'T4', 'RC', 'T2', 'RC', 'T2', 'RC', 'T2', 'FH', 'T2', 'S', 'T5', 'S', 'T5', 'S', 'T0', 'S', 'T2', 'S', 'T1', 'S', 'T3', 'S', 'T5', 'S', 'T0', 'S', 'T3', 'S', 'T2', 'S', 'T3', 'S', 'T0', 'S', 'T0', 'S', 'T4', 'S', 'T2', 'S', 'T2', 'S', 'T3', 'S', 'T2', 'S', 'T2', 'S', 'T1', 'S', 'T1', 'S', 'T0', 'S', 'T1', 'S', 'T0', 'S', 'T6', 'S', 'T1', 'S', 'T0', 'UH', 'T8', 'UH', 'T6', 'RC', 'T5', 'B', 'T6', 'RC', 'T8', 'RC', 'T3', 'RC', 'T2', 'RC', 'T2', 'FA', 'T1', 'C', 'T1', 'FE', 'T7', 'UE', 'T6', 'B', 'T2', 'FH', 'T5', 'C', 'T8', 'C', 'T0', 'C', 'T1', 'C', 'T0', 'UH', 'T1', 'UH', 'T6', 'FA', 'T4', 'FE', 'T7', 'FH', 'T6', 'UH', 'T3', 'RH', 'T1', 'UH', 'T7', 'FA', 'T2', 'FE', 'T6', 'C', 'T0', 'FH', 'T7', 'UH', 'T1', 'UH', 'T2', 'B', 'T7', 'FA', 'T7', 'FE', 'T5', 'C', 'T0', 'B', 'T7', 'FA', 'T7', 'C', 'T1', 'FE', 'T4', 'FH', 'T0', 'UH', 'T1', 'UH', 'T1', 'B', 'T8', 'B', 'T5', 'B', 'T5', 'B', 'T4', 'UE', 'T7', 'B', 'T1', 'B', 'T6', 'B', 'T7', 'B', 'T8', 'FA', 'T2', 'FA', 'T7', 'FE', 'T4', 'UE', 'T2', 'UE', 'T6', 'UA', 'T0', 'FH', 'T6', 'UH', 'T5', 'UH', 'T2', 'UA', 'T4', 'B', 'T6', 'B', 'T6', 'UA', 'T8', 'UA', 'T4', 'C', 'T0', 'FE', 'T7', 'B', 'T5', 'B', 'T6', 'B', 'T5', 'B', 'T5', 'B', 'T4', 'B', 'T6', 'FA', 'T6', 'B', 'T3', 'FE', 'T5', 'B', 'T7', 'RC', 'T8', 'FA', 'T8', 'UE', 'T1', 'UE', 'T6', 'B', 'T3', 'B', 'T6', 'FA', 'T1', 'FE', 'T5', 'B', 'T8', 'FA', 'T5', 'C', 'T2', 'C', 'T0', 'B', 'TMAX', 'B', 'T3', 'RC', 'T8', 'UA', 'T3', 'FE', 'T3']\n",
      "0.13816601037979126 0.8125\n",
      "Best prediction:\n",
      "['Q2', 'FA', 'T3', 'C', 'T1', 'FH', 'T0', 'UH', 'T0', 'UH', 'T0', 'FE', 'T6', 'FA', 'T2', 'FA', 'T5', 'UA', 'T0', 'FE', 'T2', 'FA', 'T1', 'FH', 'T0', 'UH', 'T0', 'UH', 'T0', 'C', 'T0', 'C', 'TMAX', 'FH', 'T0', 'UH', 'T0', 'UH', 'T0', 'FA', 'T6', 'UA', 'T0', 'FE', 'T4', 'FH', 'T5', 'UH', 'T0', 'C', 'T0', 'FA', 'T4', 'UA', 'T1', 'UA', 'T0', 'FE', 'T4', 'FA', 'T4', 'FE', 'T2', 'C', 'T0', 'FH', 'T0', 'UH', 'T0', 'FA', 'T6', 'FE', 'T5', 'C', 'T0', 'FH', 'T0', 'FA', 'T5', 'UA', 'T0', 'FE', 'T4', 'FH', 'T2', 'UH', 'T0', 'UH', 'T0', 'FA', 'T5', 'FE', 'T2', 'FA', 'T5', 'UA', 'T1', 'UA', 'T0', 'UA', 'T1', 'C', 'T0', 'FH', 'T0', 'UH', 'T0', 'UH', 'T0', 'FE', 'T3', 'FA', 'T2', 'UA', 'T0', 'UA', 'T1', 'UA', 'T0', 'FE', 'T1', 'C', 'T0', 'FH', 'T0', 'UH', 'T0', 'UH', 'T0', 'FA', 'T4', 'UA', 'T1', 'C', 'T0', 'FH', 'T0', 'UH', 'T0', 'UH', 'T1', 'FE', 'T5', 'FA', 'T5', 'UA', 'T1', 'FE', 'T4', 'FH', 'T0', 'UH', 'T0', 'UH', 'T0', 'C', 'T0', 'C', 'T0', 'FA', 'T5', 'UA', 'T0', 'FE', 'T6', 'FA', 'T5', 'UA', 'T0', 'FE', 'T2', 'FH', 'T0', 'UH', 'T0', 'UH', 'T0', 'C', 'T1', 'FH', 'T2', 'UH', 'T0', 'UH', 'T0', 'FE', 'T2', 'UE', 'T4', 'UE', 'T4', 'UE', 'T4', 'FA', 'T0', 'UA', 'T2', 'FA', 'T5', 'FE', 'T2', 'UE', 'T5', 'FA', 'T6', 'UA', 'T1', 'FE', 'T1', 'FH', 'T0', 'FA', 'T6', 'UA', 'T1', 'C', 'T0', 'FH', 'T0', 'UH', 'T0', 'UH', 'T0', 'FA', 'T1', 'FE', 'T1', 'C', 'T0', 'C', 'T1', 'FH', 'T0', 'UH', 'T1', 'UH', 'T0', 'FA', 'T6', 'UA', 'T1', 'FE', 'T1', 'FH', 'T0', 'UH', 'T0', 'UH', 'T0', 'C', 'T1']\n",
      "0.4500391483306885 0.44999998807907104\n"
     ]
    }
   ],
   "source": [
    "# visualize the sequence of input in validation with the highest and lowest prediction\n",
    "max_pred = np.argmax(y_pred)\n",
    "min_pred = np.argmin(y_pred)\n",
    "\n",
    "print('max prediction:')\n",
    "print(sequences[max_pred])\n",
    "print(y_pred[max_pred], y_true[max_pred])\n",
    "print('min prediction:')\n",
    "print(sequences[min_pred])\n",
    "print(y_pred[min_pred], y_true[min_pred])\n",
    "\n",
    "# show the sequence with the most accurate and least accurate prediction\n",
    "max_pred = np.argmax(np.abs(y_pred-y_true))\n",
    "min_pred = np.argmin(np.abs(y_pred-y_true))\n",
    "print(max_pred, min_pred)\n",
    "\n",
    "print('worst prediction:')\n",
    "print(sequences[max_pred])\n",
    "print(y_pred[max_pred], y_true[max_pred])\n",
    "print('Best prediction:')\n",
    "print(sequences[min_pred])\n",
    "print(y_pred[min_pred], y_true[min_pred])"
   ]
  },
  {
   "cell_type": "code",
   "execution_count": 89,
   "metadata": {},
   "outputs": [
    {
     "name": "stdout",
     "output_type": "stream",
     "text": [
      "MSE: 0.041, MAE: 0.144, R2: 0.272, Max Error: 0.674\n"
     ]
    },
    {
     "name": "stderr",
     "output_type": "stream",
     "text": [
      "wandb: ERROR Error while calling W&B API: run ep8izqfc was previously created and deleted; try a new run name (<Response [409]>)\n",
      "Thread SenderThread:\n",
      "Traceback (most recent call last):\n",
      "  File \"/localhome/pagand/projects/mygitsDaTu/AITutor_SeqModeling/myenv/lib/python3.8/site-packages/wandb/apis/normalize.py\", line 41, in wrapper\n",
      "    return func(*args, **kwargs)\n",
      "  File \"/localhome/pagand/projects/mygitsDaTu/AITutor_SeqModeling/myenv/lib/python3.8/site-packages/wandb/sdk/internal/internal_api.py\", line 2188, in upsert_run\n",
      "    response = self.gql(\n",
      "  File \"/localhome/pagand/projects/mygitsDaTu/AITutor_SeqModeling/myenv/lib/python3.8/site-packages/wandb/sdk/internal/internal_api.py\", line 312, in gql\n",
      "    ret = self._retry_gql(\n",
      "  File \"/localhome/pagand/projects/mygitsDaTu/AITutor_SeqModeling/myenv/lib/python3.8/site-packages/wandb/sdk/lib/retry.py\", line 131, in __call__\n",
      "    result = self._call_fn(*args, **kwargs)\n",
      "  File \"/localhome/pagand/projects/mygitsDaTu/AITutor_SeqModeling/myenv/lib/python3.8/site-packages/wandb/sdk/internal/internal_api.py\", line 340, in execute\n",
      "    return self.client.execute(*args, **kwargs)  # type: ignore\n",
      "  File \"/localhome/pagand/projects/mygitsDaTu/AITutor_SeqModeling/myenv/lib/python3.8/site-packages/wandb/vendor/gql-0.2.0/wandb_gql/client.py\", line 52, in execute\n",
      "    result = self._get_result(document, *args, **kwargs)\n",
      "  File \"/localhome/pagand/projects/mygitsDaTu/AITutor_SeqModeling/myenv/lib/python3.8/site-packages/wandb/vendor/gql-0.2.0/wandb_gql/client.py\", line 60, in _get_result\n",
      "    return self.transport.execute(document, *args, **kwargs)\n",
      "  File \"/localhome/pagand/projects/mygitsDaTu/AITutor_SeqModeling/myenv/lib/python3.8/site-packages/wandb/sdk/lib/gql_request.py\", line 59, in execute\n",
      "    request.raise_for_status()\n",
      "  File \"/localhome/pagand/projects/mygitsDaTu/AITutor_SeqModeling/myenv/lib/python3.8/site-packages/requests/models.py\", line 1021, in raise_for_status\n",
      "    raise HTTPError(http_error_msg, response=self)\n",
      "requests.exceptions.HTTPError: 409 Client Error: Conflict for url: https://api.wandb.ai/graphql\n",
      "\n",
      "During handling of the above exception, another exception occurred:\n",
      "\n",
      "Traceback (most recent call last):\n",
      "  File \"/localhome/pagand/projects/mygitsDaTu/AITutor_SeqModeling/myenv/lib/python3.8/site-packages/wandb/sdk/internal/internal_util.py\", line 48, in run\n",
      "    self._run()\n",
      "  File \"/localhome/pagand/projects/mygitsDaTu/AITutor_SeqModeling/myenv/lib/python3.8/site-packages/wandb/sdk/internal/internal_util.py\", line 92, in _run\n",
      "    self._debounce()\n",
      "  File \"/localhome/pagand/projects/mygitsDaTu/AITutor_SeqModeling/myenv/lib/python3.8/site-packages/wandb/sdk/internal/internal.py\", line 333, in _debounce\n",
      "    self._sm.debounce()\n",
      "  File \"/localhome/pagand/projects/mygitsDaTu/AITutor_SeqModeling/myenv/lib/python3.8/site-packages/wandb/sdk/internal/sender.py\", line 536, in debounce\n",
      "    self._maybe_update_config(always=final)\n",
      "  File \"/localhome/pagand/projects/mygitsDaTu/AITutor_SeqModeling/myenv/lib/python3.8/site-packages/wandb/sdk/internal/sender.py\", line 513, in _maybe_update_config\n",
      "    self._debounce_config()\n",
      "  File \"/localhome/pagand/projects/mygitsDaTu/AITutor_SeqModeling/myenv/lib/python3.8/site-packages/wandb/sdk/internal/sender.py\", line 542, in _debounce_config\n",
      "    self._api.upsert_run(\n",
      "  File \"/localhome/pagand/projects/mygitsDaTu/AITutor_SeqModeling/myenv/lib/python3.8/site-packages/wandb/apis/normalize.py\", line 51, in wrapper\n",
      "    raise CommError(message, error)\n",
      "wandb.errors.CommError: run ep8izqfc was previously created and deleted; try a new run name (Error 409: Conflict)\n",
      "wandb: ERROR Internal wandb error: file data was not synced\n"
     ]
    }
   ],
   "source": [
    "# create metrics for the model from Y_pred and Y_true\n",
    "from sklearn.metrics import mean_squared_error, mean_absolute_error, r2_score\n",
    "mse = mean_squared_error(y_true, y_pred)\n",
    "mae = mean_absolute_error(y_true, y_pred)\n",
    "r2 = r2_score(y_true, y_pred)\n",
    "max_error = np.max(np.abs(y_true - y_pred))\n",
    "print(f\"MSE: {mse:.3f}, MAE: {mae:.3f}, R2: {r2:.3f}, Max Error: {max_error:.3f}\")\n"
   ]
  },
  {
   "cell_type": "markdown",
   "metadata": {},
   "source": [
    "## LORA"
   ]
  },
  {
   "cell_type": "code",
   "execution_count": 57,
   "metadata": {},
   "outputs": [
    {
     "data": {
      "text/html": [
       "Finishing last run (ID:01pnxl2i) before initializing another..."
      ],
      "text/plain": [
       "<IPython.core.display.HTML object>"
      ]
     },
     "metadata": {},
     "output_type": "display_data"
    },
    {
     "data": {
      "text/html": [
       "<style>\n",
       "    table.wandb td:nth-child(1) { padding: 0 10px; text-align: left ; width: auto;} td:nth-child(2) {text-align: left ; width: 100%}\n",
       "    .wandb-row { display: flex; flex-direction: row; flex-wrap: wrap; justify-content: flex-start; width: 100% }\n",
       "    .wandb-col { display: flex; flex-direction: column; flex-basis: 100%; flex: 1; padding: 10px; }\n",
       "    </style>\n",
       "<div class=\"wandb-row\"><div class=\"wandb-col\"><h3>Run history:</h3><br/><table class=\"wandb\"><tr><td>epoch</td><td>▁▁▁▁▂▂▂▂▂▃▃▃▃▃▃▄▄▄▄▄▅▅▅▅▅▅▆▆▆▆▆▇▇▇▇▇▇███</td></tr><tr><td>train_loss</td><td>█▄▃▄▂▃▂▂▂▃▃▃▃▁▂▂▂▂▂▂▁▂▂▁▁▂▂▂▂▂▂▁▂▁▁▁▁▂▂▂</td></tr><tr><td>validation_loss</td><td>█▆▃▁▃▃▂▃▃▂▂▂▂▃▂▁▂▂▂▄▂▅▂▂▂▂▂▁▂▂▂▂▁▁▁▂▂▂▂▂</td></tr></table><br/></div><div class=\"wandb-col\"><h3>Run summary:</h3><br/><table class=\"wandb\"><tr><td>epoch</td><td>50</td></tr><tr><td>train_loss</td><td>0.0537</td></tr><tr><td>validation_loss</td><td>0.04842</td></tr></table><br/></div></div>"
      ],
      "text/plain": [
       "<IPython.core.display.HTML object>"
      ]
     },
     "metadata": {},
     "output_type": "display_data"
    },
    {
     "data": {
      "text/html": [
       " View run <strong style=\"color:#cdcd00\">lora-Ciriculum-distilbert</strong> at: <a href='https://wandb.ai/marslab/DaTu_prediction/runs/01pnxl2i' target=\"_blank\">https://wandb.ai/marslab/DaTu_prediction/runs/01pnxl2i</a><br/> View project at: <a href='https://wandb.ai/marslab/DaTu_prediction' target=\"_blank\">https://wandb.ai/marslab/DaTu_prediction</a><br/>Synced 5 W&B file(s), 0 media file(s), 0 artifact file(s) and 0 other file(s)"
      ],
      "text/plain": [
       "<IPython.core.display.HTML object>"
      ]
     },
     "metadata": {},
     "output_type": "display_data"
    },
    {
     "data": {
      "text/html": [
       "Find logs at: <code>./wandb/run-20240621_160742-01pnxl2i/logs</code>"
      ],
      "text/plain": [
       "<IPython.core.display.HTML object>"
      ]
     },
     "metadata": {},
     "output_type": "display_data"
    },
    {
     "data": {
      "text/html": [
       "Successfully finished last run (ID:01pnxl2i). Initializing new run:<br/>"
      ],
      "text/plain": [
       "<IPython.core.display.HTML object>"
      ]
     },
     "metadata": {},
     "output_type": "display_data"
    },
    {
     "data": {
      "text/html": [
       "wandb version 0.17.2 is available!  To upgrade, please run:\n",
       " $ pip install wandb --upgrade"
      ],
      "text/plain": [
       "<IPython.core.display.HTML object>"
      ]
     },
     "metadata": {},
     "output_type": "display_data"
    },
    {
     "data": {
      "text/html": [
       "Tracking run with wandb version 0.17.0"
      ],
      "text/plain": [
       "<IPython.core.display.HTML object>"
      ]
     },
     "metadata": {},
     "output_type": "display_data"
    },
    {
     "data": {
      "text/html": [
       "Run data is saved locally in <code>/local-scratch/localhome/pagand/projects/mygitsDaTu/AITutor_SeqModeling/wandb/run-20240621_162138-n93el6fq</code>"
      ],
      "text/plain": [
       "<IPython.core.display.HTML object>"
      ]
     },
     "metadata": {},
     "output_type": "display_data"
    },
    {
     "data": {
      "text/html": [
       "Syncing run <strong><a href='https://wandb.ai/marslab/DaTu_prediction/runs/n93el6fq' target=\"_blank\">lora-Ciriculum-distilbert</a></strong> to <a href='https://wandb.ai/marslab/DaTu_prediction' target=\"_blank\">Weights & Biases</a> (<a href='https://wandb.me/run' target=\"_blank\">docs</a>)<br/>"
      ],
      "text/plain": [
       "<IPython.core.display.HTML object>"
      ]
     },
     "metadata": {},
     "output_type": "display_data"
    },
    {
     "data": {
      "text/html": [
       " View project at <a href='https://wandb.ai/marslab/DaTu_prediction' target=\"_blank\">https://wandb.ai/marslab/DaTu_prediction</a>"
      ],
      "text/plain": [
       "<IPython.core.display.HTML object>"
      ]
     },
     "metadata": {},
     "output_type": "display_data"
    },
    {
     "data": {
      "text/html": [
       " View run at <a href='https://wandb.ai/marslab/DaTu_prediction/runs/n93el6fq' target=\"_blank\">https://wandb.ai/marslab/DaTu_prediction/runs/n93el6fq</a>"
      ],
      "text/plain": [
       "<IPython.core.display.HTML object>"
      ]
     },
     "metadata": {},
     "output_type": "display_data"
    },
    {
     "data": {
      "text/html": [
       "<button onClick=\"this.nextSibling.style.display='block';this.style.display='none';\">Display W&B run</button><iframe src='https://wandb.ai/marslab/DaTu_prediction/runs/n93el6fq?jupyter=true' style='border:none;width:100%;height:420px;display:none;'></iframe>"
      ],
      "text/plain": [
       "<wandb.sdk.wandb_run.Run at 0x7f45503c4460>"
      ]
     },
     "execution_count": 57,
     "metadata": {},
     "output_type": "execute_result"
    }
   ],
   "source": [
    "wandb.init(project=\"DaTu_prediction\", entity=\"marslab\", name = \"lora-Ciriculum-distilbert\")"
   ]
  },
  {
   "cell_type": "code",
   "execution_count": 42,
   "metadata": {},
   "outputs": [],
   "source": [
    "from peft import get_peft_config, PeftModel, PeftConfig, get_peft_model, LoraConfig, TaskType"
   ]
  },
  {
   "cell_type": "code",
   "execution_count": 43,
   "metadata": {},
   "outputs": [],
   "source": [
    "peft_config = LoraConfig(\n",
    "    task_type=TaskType.TOKEN_CLS, \n",
    "    inference_mode=False, \n",
    "    r=8, \n",
    "    lora_alpha=8, \n",
    "    lora_dropout=0.1, \n",
    "    target_modules=\"all-linear\",\n",
    "    bias=\"all\"\n",
    ")"
   ]
  },
  {
   "cell_type": "code",
   "execution_count": 44,
   "metadata": {},
   "outputs": [
    {
     "name": "stdout",
     "output_type": "stream",
     "text": [
      "trainable params: 1,324,809 || all params: 68,258,322 || trainable%: 1.9408754290795487\n"
     ]
    }
   ],
   "source": [
    "model_peft = get_peft_model(model, peft_config)\n",
    "model_peft.print_trainable_parameters()"
   ]
  },
  {
   "cell_type": "code",
   "execution_count": 45,
   "metadata": {},
   "outputs": [],
   "source": [
    "epochs = 50\n",
    "optimizer = AdamW(model_peft.parameters(), lr=5e-5)\n",
    "total_steps = len(train_dataloader) * epochs\n",
    "scheduler = get_linear_schedule_with_warmup(optimizer, num_warmup_steps=4, num_training_steps=total_steps)"
   ]
  },
  {
   "cell_type": "code",
   "execution_count": 62,
   "metadata": {},
   "outputs": [
    {
     "name": "stdout",
     "output_type": "stream",
     "text": [
      "Epoch 1/50 | Train Loss: 0.110 | Validation Loss: 0.053\n",
      "Epoch 6/50 | Train Loss: 0.057 | Validation Loss: 0.050\n",
      "Epoch 11/50 | Train Loss: 0.053 | Validation Loss: 0.049\n",
      "Epoch 16/50 | Train Loss: 0.049 | Validation Loss: 0.050\n",
      "Epoch 21/50 | Train Loss: 0.049 | Validation Loss: 0.047\n",
      "Epoch 26/50 | Train Loss: 0.048 | Validation Loss: 0.052\n",
      "Epoch 31/50 | Train Loss: 0.047 | Validation Loss: 0.048\n",
      "Epoch 36/50 | Train Loss: 0.044 | Validation Loss: 0.047\n",
      "Epoch 41/50 | Train Loss: 0.049 | Validation Loss: 0.048\n",
      "Epoch 46/50 | Train Loss: 0.048 | Validation Loss: 0.049\n"
     ]
    }
   ],
   "source": [
    "train_val_loop(model, train_dataloader, val_dataloader, optimizer, scheduler, epochs)"
   ]
  },
  {
   "cell_type": "code",
   "execution_count": 63,
   "metadata": {},
   "outputs": [
    {
     "name": "stdout",
     "output_type": "stream",
     "text": [
      "[[ 2.  0.  0.  0.]\n",
      " [ 4.  6. 13.  5.]\n",
      " [ 2.  6.  7.  4.]\n",
      " [ 0.  0.  0.  0.]]\n"
     ]
    },
    {
     "data": {
      "image/png": "[encoded data removed]",
      "text/plain": [
       "<Figure size 640x480 with 2 Axes>"
      ]
     },
     "metadata": {},
     "output_type": "display_data"
    }
   ],
   "source": [
    "\n",
    "# compute a quality metric for the model\n",
    "y_pred = []\n",
    "y_true = []\n",
    "model.eval()\n",
    "for batch in val_dataloader:\n",
    "    batch = {k: v.squeeze(1).to(device) for k, v in batch.items()}  # Move batch to device\n",
    "    with torch.no_grad():\n",
    "        outputs = model(**batch)\n",
    "        y_pred.extend(outputs.logits.squeeze(1).tolist())\n",
    "        y_true.extend(batch['labels'].tolist())\n",
    "\n",
    "# calculate the confusion matrix by values 0-0.25, 0.25-`0.5, 0.5-0.75, 0.75-1\n",
    "y_pred = np.array(y_pred)\n",
    "y_true = np.array(y_true)\n",
    "y_pred_bin = np.round(y_pred, 2)\n",
    "y_true_bin = np.round(y_true, 2)\n",
    "confusion_matrix = np.zeros((4, 4))\n",
    "for i in range(4):\n",
    "    for j in range(4):\n",
    "        confusion_matrix[i, j] = np.sum((y_pred_bin >= i*0.25) & (y_pred_bin < (i+1)*0.25) & (y_true_bin >= j*0.25) & (y_true_bin < (j+1)*0.25))\n",
    "print(confusion_matrix)\n",
    "\n",
    "\n",
    "sns.heatmap(confusion_matrix, annot=True, fmt='g')\n",
    "plt.xlabel('Predicted')\n",
    "plt.ylabel('True')\n",
    "plt.show()"
   ]
  },
  {
   "cell_type": "code",
   "execution_count": 64,
   "metadata": {},
   "outputs": [
    {
     "data": {
      "image/png": "[encoded data removed]",
      "text/plain": [
       "<Figure size 640x480 with 1 Axes>"
      ]
     },
     "metadata": {},
     "output_type": "display_data"
    }
   ],
   "source": [
    "# sort the values of y_true, then change the y_pred accordingly\n",
    "y_true_sorted = np.sort(y_true)\n",
    "y_pred_sorted = y_pred[np.argsort(y_true)]\n",
    "\n",
    "# compute yerr up and down error\n",
    "yerr = y_pred_sorted - y_true_sorted\n",
    "yerr_up = [0 if x < 0 else x for x in yerr]\n",
    "yerr_down = [0 if x > 0 else -x for x in yerr]\n",
    "yerr_ud = np.array([yerr_down, yerr_up])\n",
    "\n",
    "# plot errorbar  (y_true - y_pred) for each value of y_true\n",
    "plt.errorbar(y_true_sorted,y_true_sorted,yerr= yerr_ud, fmt='o',ecolor = \"red\")\n",
    "plt.xlabel('True')\n",
    "plt.ylabel('True + Error')\n",
    "plt.show()\n"
   ]
  },
  {
   "cell_type": "code",
   "execution_count": 65,
   "metadata": {},
   "outputs": [
    {
     "name": "stdout",
     "output_type": "stream",
     "text": [
      "max prediction:\n",
      "['Q2', 'FA', 'T3', 'FE', 'T6', 'C', 'T1', 'FH', 'T2', 'UH', 'T0', 'UH', 'T1', 'B', 'T7', 'B', 'T8', 'FE', 'T8', 'C', 'T7', 'FA', 'T4', 'FA', 'T2', 'UA', 'T1', 'FA', 'T3', 'UA', 'T1', 'UA', 'T1', 'FA', 'T1', 'FA', 'T1', 'UA', 'T1', 'UE', 'T5', 'C', 'T0', 'UE', 'T5', 'FA', 'T7', 'UE', 'T5', 'UE', 'T1', 'C', 'T0', 'B', 'T6', 'FA', 'T3', 'FE', 'T3', 'FA', 'T3', 'UA', 'T1', 'UA', 'T1', 'FH', 'T2', 'UH', 'T0', 'UH', 'T0', 'FE', 'T6', 'C', 'T1', 'FA', 'T4', 'UA', 'T1', 'FA', 'T1', 'FA', 'T2', 'UA', 'T0', 'UE', 'T3', 'UE', 'T1', 'FA', 'T8', 'UA', 'T0', 'FA', 'T1', 'B', 'T4', 'FA', 'T8', 'UA', 'T0', 'UA', 'T1', 'UA', 'T1', 'UA', 'T0', 'UA', 'T1', 'FA', 'T0', 'UA', 'T0', 'UA', 'T0', 'UA', 'T1', 'UA', 'T0', 'FE', 'T1', 'C', 'T1', 'B', 'T6', 'FA', 'T7', 'UA', 'T1', 'UA', 'T1', 'UA', 'T0', 'UA', 'T1', 'UA', 'T1', 'UA', 'T0', 'UA', 'T1', 'UA', 'T1', 'UA', 'T0', 'FE', 'T5', 'B', 'T3', 'FA', 'T3', 'UA', 'T4', 'FE', 'T3', 'C', 'T0', 'FA', 'T0', 'UA', 'T0', 'UA', 'T0', 'FE', 'T2', 'C', 'T0', 'UE', 'T2', 'FA', 'T5', 'UA', 'T1', 'UA', 'T0', 'UA', 'T1', 'UA', 'T0', 'UA', 'T1', 'FE', 'T3', 'C', 'T0', 'FA', 'T4', 'UA', 'T0', 'FE', 'T3', 'UE', 'T1', 'C', 'T0', 'FA', 'T3', 'UA', 'T0', 'C', 'T0', 'FE', 'T2', 'FA', 'T0', 'FE', 'T3', 'FA', 'T1', 'UA', 'T0', 'UA', 'T0', 'FE', 'T1', 'FA', 'T1', 'UA', 'T1', 'UA', 'T1', 'FE', 'T3', 'FA', 'T0', 'FE', 'T4', 'FA', 'T2', 'UA', 'T1', 'FE', 'T3', 'C', 'T1', 'C', 'T1']\n",
      "0.6630529165267944 0.8125\n",
      "min prediction:\n",
      "['Q1', 'FH', 'T4', 'UH', 'T5', 'UH', 'T0', 'FA', 'T7', 'C', 'T3', 'FE', 'T4', 'UE', 'T6', 'UE', 'T2', 'UE', 'T4', 'UA', 'T0', 'UE', 'T6', 'UE', 'T3', 'UE', 'T5', 'UE', 'T2', 'UE', 'T4', 'UE', 'T1', 'UE', 'T7', 'UE', 'T4', 'UE', 'T6', 'FH', 'T6', 'UH', 'T1', 'UH', 'T2', 'S', 'T6', 'FE', 'T6', 'UE', 'T4', 'FA', 'T5', 'UA', 'T1', 'UA', 'T0', 'UA', 'T1', 'UA', 'T0', 'UA', 'T0', 'UA', 'T1', 'UA', 'T0', 'UA', 'T0', 'UA', 'T2', 'UA', 'T0', 'UA', 'T0', 'UA', 'T0', 'UA', 'T0', 'UA', 'T0', 'UA', 'T0', 'UA', 'T0', 'UA', 'T0', 'UA', 'T0', 'UA', 'T0', 'UA', 'T0', 'UA', 'T0', 'UA', 'T0', 'UA', 'T0', 'UA', 'T0', 'UA', 'T0', 'UA', 'T0', 'UA', 'T0', 'UA', 'T2', 'UA', 'T1', 'UA', 'T0', 'UA', 'T3', 'FE', 'T6', 'UE', 'T3', 'C', 'T0', 'FH', 'T1', 'UH', 'T0', 'UH', 'T0', 'UE', 'T1', 'UE', 'T2', 'UE', 'T4', 'FA', 'T5', 'FE', 'T7', 'FH', 'T0', 'UH', 'T2', 'UA', 'T4', 'UE', 'T6', 'UE', 'T3', 'C', 'T0', 'UH', 'T0', 'FH', 'T3', 'UH', 'T1', 'UH', 'T0', 'S', 'T4', 'S', 'T2', 'S', 'T1', 'S', 'T5', 'S', 'T3', 'S', 'T0', 'S', 'T3', 'S', 'T2', 'S', 'T0', 'S', 'T1', 'S', 'T0', 'S', 'T8', 'S', 'T5', 'S', 'T2', 'S', 'T5', 'S', 'T0', 'S', 'T0', 'S', 'T3', 'S', 'T0', 'S', 'T0', 'S', 'T0', 'FH', 'T6', 'UH', 'T0', 'UH', 'T0', 'S', 'T5', 'S', 'T4', 'S', 'T0', 'S', 'T1', 'S', 'T6', 'S', 'T1', 'S', 'T0', 'FE', 'T6', 'UE', 'T6', 'FA', 'T6', 'UA', 'T0', 'UA', 'T0', 'UA', 'T7', 'UE', 'T6', 'C', 'T0', 'FA', 'T6', 'FH', 'T3', 'C', 'T1', 'UA', 'T6', 'UH', 'T7', 'UH', 'T0', 'UA', 'T6', 'FE', 'T6', 'UA', 'T0', 'UE', 'T7', 'UA', 'T0', 'UE', 'T5', 'UE', 'T8', 'FE', 'T8', 'FA', 'T0', 'UE', 'T7', 'S', 'T8', 'S', 'T5', 'UE', 'T8', 'UA', 'T0', 'UE', 'T7', 'C', 'T0', 'C', 'T0', 'RH', 'T2', 'RH', 'T2', 'FA', 'T5', 'UA', 'T5', 'UA', 'T2', 'UA', 'T1', 'UA', 'T0', 'UA', 'T0', 'UA', 'T0', 'UA', 'T0', 'UA', 'T2', 'UA', 'T1', 'UE', 'T7', 'UA', 'T0', 'UE', 'T7', 'FH', 'T4', 'UH', 'T0', 'UH', 'T0', 'FA', 'T1', 'FH', 'T6', 'UH', 'T1', 'UH', 'T0', 'FA', 'T2', 'UA', 'T8', 'FA', 'T6', 'FH', 'T2', 'UH', 'T0', 'UH', 'T0', 'FH', 'T5', 'UH', 'T1', 'UH', 'T0', 'FA', 'T4', 'UA', 'T2', 'UA', 'T1', 'UA', 'T0', 'UA', 'T1', 'UA', 'T0', 'UA', 'T0', 'UA', 'T0', 'UA', 'T0', 'UA', 'T0', 'UA', 'T1', 'UA', 'T0', 'UA', 'T0', 'UA', 'T0', 'UA', 'T0', 'UA', 'T1', 'UA', 'T0', 'UA', 'T1', 'UA', 'T0', 'UA', 'T0', 'UA', 'T3', 'UA', 'T0', 'FE', 'T6', 'C', 'T0', 'FH', 'T2', 'UH', 'T1', 'UH', 'T0', 'FA', 'T7', 'FA', 'T7', 'UA', 'T2', 'UA', 'T0', 'UA', 'T0', 'UA', 'T0', 'UA', 'T0', 'UA', 'T0', 'UA', 'T1', 'UA', 'T0', 'UA', 'T0', 'UA', 'T2', 'UA', 'T0', 'UA', 'T0', 'UA', 'T0', 'UA', 'T0', 'UA', 'T0', 'UA', 'T0', 'UA', 'T0', 'UA', 'T0', 'UA', 'T0', 'UA', 'T0', 'UA', 'T0', 'UA', 'T0', 'UA', 'T0', 'UA', 'T0', 'UA', 'T0', 'FH', 'T1', 'UH', 'T0', 'UH', 'T0', 'FE', 'T6', 'UE', 'T6', 'UE', 'T0', 'UE', 'T3', 'C', 'T0', 'UE', 'T5', 'UE', 'T6', 'FH', 'T0', 'UH', 'T0', 'UH', 'T0', 'FA', 'TMAX', 'UA', 'T1', 'UA', 'T0', 'UA', 'T0', 'UA', 'T0', 'UA', 'T0', 'UA', 'T0', 'UA', 'T0', 'UA', 'T0', 'UA', 'T0', 'UA', 'T0', 'UA', 'T0', 'UA', 'T0', 'FH', 'T2', 'UH', 'T1', 'UH', 'T0', 'FE', 'T7', 'C', 'T0', 'UA', 'T4', 'UA', 'T0', 'UA', 'T0', 'UA', 'T0', 'UA', 'T0', 'UA', 'T0', 'UA', 'T0', 'UA', 'T0', 'UA', 'T0', 'UA', 'T0', 'FE', 'T6', 'UA', 'T0', 'UA', 'T1', 'UA', 'T0', 'UA', 'T0', 'UA', 'T0', 'UA', 'T0', 'UA', 'T0', 'UA', 'T0', 'UA', 'T0', 'UA', 'T0', 'UA', 'T0', 'FE', 'T5', 'FH', 'T0', 'UH', 'T0', 'UH', 'T0', 'FA', 'T2', 'UA', 'T0', 'UA', 'T0', 'UA', 'T0', 'UA', 'T0', 'UA', 'T0', 'UA', 'T0', 'UA', 'T0', 'UA', 'T0', 'UA', 'T0', 'UA', 'T0', 'UA', 'T0', 'FE', 'T6', 'UA', 'T4', 'UA', 'T0', 'UE', 'T3', 'UA', 'T0', 'UA', 'T0', 'UE', 'T5', 'UA', 'T0', 'UA', 'T1', 'UA', 'T0', 'UA', 'T4', 'UA', 'T1', 'UA', 'T0', 'UA', 'T0', 'UA', 'T0', 'UA', 'T0', 'UA', 'T0', 'UA', 'T4', 'UA', 'T4', 'UA', 'T1', 'UA', 'T2', 'UA', 'T1', 'UA', 'T1', 'UA', 'T1', 'UE', 'T6', 'UE', 'T1', 'UE', 'T4', 'FA', 'T7', 'C', 'T1', 'UA', 'T1', 'UA', 'T1', 'UA', 'T4', 'C', 'T4']\n",
      "-0.020893147215247154 0.0\n",
      "3 23\n",
      "worst prediction:\n",
      "['Q1', 'FA', 'T5', 'C', 'T1', 'FH', 'T3', 'UH', 'T7', 'UH', 'T2', 'UA', 'T5', 'FE', 'T3', 'UE', 'T7', 'C', 'T1', 'RH', 'T2', 'UE', 'T3', 'RH', 'T0', 'FH', 'T5', 'UH', 'T2', 'UH', 'T5', 'FH', 'T6', 'UH', 'T2', 'UH', 'T2', 'C', 'T4', 'C', 'T3', 'FA', 'T5', 'UA', 'T2', 'UA', 'T1', 'UA', 'T0', 'UA', 'T6', 'UA', 'T2', 'UA', 'T0', 'UA', 'T0', 'UA', 'T0', 'UA', 'T0', 'UA', 'T0', 'UA', 'T1', 'UA', 'T0', 'UA', 'T0', 'UA', 'T0', 'FE', 'T5', 'UE', 'T6', 'C', 'T1', 'FH', 'T5', 'UH', 'T3', 'UH', 'T5', 'RH', 'T7', 'RH', 'T2', 'S', 'T6', 'S', 'T1', 'S', 'T2', 'S', 'T3', 'FA', 'T6', 'FE', 'T6', 'UE', 'T6', 'RH', 'T0', 'RH', 'T2', 'RH', 'T1', 'RH', 'T2', 'RH', 'T0', 'S', 'T6', 'S', 'T2', 'S', 'T7', 'S', 'T6', 'S', 'T2', 'FH', 'T2', 'UH', 'T1', 'UH', 'T1', 'S', 'T4', 'S', 'T2', 'S', 'T2', 'S', 'T1', 'S', 'T2', 'S', 'T2', 'S', 'T2', 'S', 'T1', 'S', 'T5', 'M', 'T7', 'M', 'T5', 'M', 'T6', 'M', 'T6', 'M', 'T7', 'S', 'TMAX', 'S', 'T1', 'S', 'T7', 'S', 'T6', 'FA', 'T7', 'FE', 'T7', 'S', 'T0', 'FA', 'T7', 'UA', 'T0', 'UA', 'T0', 'UA', 'T0', 'UA', 'T0', 'FH', 'T1', 'S', 'T4', 'S', 'T0', 'S', 'T0', 'S', 'T1', 'S', 'T2', 'S', 'T1', 'S', 'T1', 'S', 'T1', 'UH', 'T5', 'UH', 'T2', 'RC', 'T7', 'RC', 'T6', 'C', 'T7', 'FE', 'T5', 'FH', 'T0', 'UH', 'T0', 'UH', 'T0', 'FA', 'T5', 'UE', 'T5', 'FE', 'T4', 'FH', 'T2', 'UH', 'T0', 'UH', 'T0', 'C', 'T7', 'FA', 'T1', 'UA', 'T2', 'FE', 'T7', 'RH', 'T0', 'RH', 'T0', 'RH', 'T0', 'FH', 'T4', 'UH', 'T0', 'UH', 'T0', 'FA', 'T6', 'FE', 'T6', 'FH', 'T1', 'UH', 'T0', 'UH', 'T0', 'C', 'T1', 'FA', 'T7', 'C', 'T0', 'FE', 'T5', 'FH', 'T0', 'UH', 'T0', 'UH', 'T0', 'FA', 'T8', 'C', 'T1', 'FE', 'T6', 'FH', 'T2', 'UH', 'T0', 'UH', 'T0', 'FA', 'T8', 'FE', 'T2', 'UE', 'T3', 'C', 'T0', 'FH', 'T3', 'UH', 'T0', 'UH', 'T0']\n",
      "0.3940921127796173 0.8611111044883728\n",
      "Best prediction:\n",
      "['Q2', 'FA', 'T3', 'FA', 'T2', 'FA', 'T3', 'UA', 'T0', 'FE', 'T5', 'UE', 'T7', 'FA', 'T2', 'FH', 'T3', 'UH', 'T1', 'UH', 'T1', 'FA', 'T6', 'UA', 'T2', 'FH', 'T2', 'UH', 'T0', 'UH', 'T0', 'FA', 'T4', 'UA', 'T0', 'UA', 'T2', 'FA', 'T7', 'C', 'T1', 'FA', 'T7', 'C', 'T5', 'FA', 'T4', 'FH', 'T0', 'UH', 'T0', 'UH', 'T0', 'FA', 'T8', 'UA', 'T1', 'UA', 'T0', 'UA', 'T2', 'UA', 'T1', 'C', 'T0', 'C', 'T0', 'FA', 'T4', 'C', 'T1', 'FH', 'T6', 'UH', 'T0', 'UH', 'T0', 'FA', 'T8', 'UA', 'T0', 'UA', 'T1', 'UA', 'T0', 'UA', 'T0', 'UA', 'T1', 'UA', 'T0', 'UA', 'T0', 'UA', 'T0', 'UA', 'T1', 'C', 'T0', 'FA', 'T5', 'FH', 'T2', 'UH', 'T0', 'UH', 'T0', 'FA', 'T6', 'FA', 'T1', 'UA', 'T0', 'UA', 'T4', 'UA', 'T1', 'UA', 'T1', 'UA', 'T1', 'UA', 'T1', 'FA', 'T1', 'UA', 'T0', 'UA', 'T1', 'UA', 'T0', 'UA', 'T1', 'UA', 'T0', 'UA', 'T0', 'UA', 'T0', 'UA', 'T1', 'UA', 'T2', 'C', 'T0', 'C', 'T1', 'FA', 'T5', 'UA', 'T0', 'C', 'T0', 'C', 'T0', 'FA', 'T3', 'UA', 'T1', 'UA', 'T0', 'UA', 'T0', 'UA', 'T1', 'UA', 'T0', 'UA', 'T1', 'UA', 'T0', 'C', 'T0', 'FA', 'T4', 'UA', 'T1', 'UA', 'T4', 'C', 'T0', 'FA', 'T4', 'UA', 'T0', 'UA', 'T1', 'UA', 'T1', 'UA', 'T1', 'UA', 'T0', 'UA', 'T1', 'C', 'T0', 'FA', 'T6', 'FA', 'T2', 'UA', 'T0', 'C', 'T1', 'FH', 'T1', 'UH', 'T0', 'UH', 'T0', 'FA', 'T4', 'UA', 'T1', 'UA', 'T1', 'UA', 'T0', 'UA', 'T0', 'UA', 'T1', 'UA', 'T1', 'UA', 'T0', 'C', 'T0', 'FA', 'T4', 'UA', 'T1', 'C', 'T1', 'FH', 'T5', 'C', 'T0', 'FA', 'T1', 'FH', 'T0', 'UH', 'T0', 'UH', 'T1', 'FA', 'T2', 'UA', 'T1', 'UA', 'T1']\n",
      "0.49569833278656006 0.5\n"
     ]
    }
   ],
   "source": [
    "# visualize the sequence of input in validation with the highest and lowest prediction\n",
    "max_pred = np.argmax(y_pred)\n",
    "min_pred = np.argmin(y_pred)\n",
    "\n",
    "print('max prediction:')\n",
    "print(sequences[max_pred])\n",
    "print(y_pred[max_pred], y_true[max_pred])\n",
    "print('min prediction:')\n",
    "print(sequences[min_pred])\n",
    "print(y_pred[min_pred], y_true[min_pred])\n",
    "\n",
    "# show the sequence with the most accurate and least accurate prediction\n",
    "max_pred = np.argmax(np.abs(y_pred-y_true))\n",
    "min_pred = np.argmin(np.abs(y_pred-y_true))\n",
    "print(max_pred, min_pred)\n",
    "\n",
    "print('worst prediction:')\n",
    "print(sequences[max_pred])\n",
    "print(y_pred[max_pred], y_true[max_pred])\n",
    "print('Best prediction:')\n",
    "print(sequences[min_pred])\n",
    "print(y_pred[min_pred], y_true[min_pred])"
   ]
  },
  {
   "cell_type": "code",
   "execution_count": 66,
   "metadata": {},
   "outputs": [
    {
     "name": "stdout",
     "output_type": "stream",
     "text": [
      "MSE: 0.049, MAE: 0.180, R2: 0.122, Max Error: 0.467\n"
     ]
    }
   ],
   "source": [
    "# create metrics for the model from Y_pred and Y_true\n",
    "from sklearn.metrics import mean_squared_error, mean_absolute_error, r2_score\n",
    "mse = mean_squared_error(y_true, y_pred)\n",
    "mae = mean_absolute_error(y_true, y_pred)\n",
    "r2 = r2_score(y_true, y_pred)\n",
    "max_error = np.max(np.abs(y_true - y_pred))\n",
    "print(f\"MSE: {mse:.3f}, MAE: {mae:.3f}, R2: {r2:.3f}, Max Error: {max_error:.3f}\")\n"
   ]
  },
  {
   "cell_type": "markdown",
   "metadata": {},
   "source": [
    "## data augmentation"
   ]
  },
  {
   "cell_type": "code",
   "execution_count": 52,
   "metadata": {},
   "outputs": [
    {
     "data": {
      "text/html": [
       "Finishing last run (ID:1svcajoh) before initializing another..."
      ],
      "text/plain": [
       "<IPython.core.display.HTML object>"
      ]
     },
     "metadata": {},
     "output_type": "display_data"
    },
    {
     "data": {
      "text/html": [
       "<style>\n",
       "    table.wandb td:nth-child(1) { padding: 0 10px; text-align: left ; width: auto;} td:nth-child(2) {text-align: left ; width: 100%}\n",
       "    .wandb-row { display: flex; flex-direction: row; flex-wrap: wrap; justify-content: flex-start; width: 100% }\n",
       "    .wandb-col { display: flex; flex-direction: column; flex-basis: 100%; flex: 1; padding: 10px; }\n",
       "    </style>\n",
       "<div class=\"wandb-row\"><div class=\"wandb-col\"><h3>Run history:</h3><br/><table class=\"wandb\"><tr><td>epoch</td><td>▁▁▁▁▂▂▂▂▂▃▃▃▃▃▃▄▄▄▄▄▅▅▅▅▅▅▆▆▆▆▆▇▇▇▇▇▇███</td></tr><tr><td>train_loss</td><td>█▂▂▂▁▁▁▁▁▂▁▁▂▂▁▂▁▁▁▁▁▁▁▁▁▁▁▁▁▁▁▁▁▁▁▁▁▁▁▁</td></tr><tr><td>validation_loss</td><td>▁▂▂▆▇▂▇▄▂▄▆▆▅█▄▅█▄▅▆▄▅▆▅▅▅▆▅▅▆▅▅▆▅▅▅▅▅▅▅</td></tr></table><br/></div><div class=\"wandb-col\"><h3>Run summary:</h3><br/><table class=\"wandb\"><tr><td>epoch</td><td>50</td></tr><tr><td>train_loss</td><td>0.06312</td></tr><tr><td>validation_loss</td><td>0.05597</td></tr></table><br/></div></div>"
      ],
      "text/plain": [
       "<IPython.core.display.HTML object>"
      ]
     },
     "metadata": {},
     "output_type": "display_data"
    },
    {
     "data": {
      "text/html": [
       " View run <strong style=\"color:#cdcd00\">augment-lora-Ciriculum-distilbert</strong> at: <a href='https://wandb.ai/marslab/DaTu_prediction/runs/1svcajoh' target=\"_blank\">https://wandb.ai/marslab/DaTu_prediction/runs/1svcajoh</a><br/> View project at: <a href='https://wandb.ai/marslab/DaTu_prediction' target=\"_blank\">https://wandb.ai/marslab/DaTu_prediction</a><br/>Synced 5 W&B file(s), 0 media file(s), 0 artifact file(s) and 0 other file(s)"
      ],
      "text/plain": [
       "<IPython.core.display.HTML object>"
      ]
     },
     "metadata": {},
     "output_type": "display_data"
    },
    {
     "data": {
      "text/html": [
       "Find logs at: <code>./wandb/run-20240621_164656-1svcajoh/logs</code>"
      ],
      "text/plain": [
       "<IPython.core.display.HTML object>"
      ]
     },
     "metadata": {},
     "output_type": "display_data"
    },
    {
     "data": {
      "text/html": [
       "Successfully finished last run (ID:1svcajoh). Initializing new run:<br/>"
      ],
      "text/plain": [
       "<IPython.core.display.HTML object>"
      ]
     },
     "metadata": {},
     "output_type": "display_data"
    },
    {
     "data": {
      "text/html": [
       "wandb version 0.17.2 is available!  To upgrade, please run:\n",
       " $ pip install wandb --upgrade"
      ],
      "text/plain": [
       "<IPython.core.display.HTML object>"
      ]
     },
     "metadata": {},
     "output_type": "display_data"
    },
    {
     "data": {
      "text/html": [
       "Tracking run with wandb version 0.17.0"
      ],
      "text/plain": [
       "<IPython.core.display.HTML object>"
      ]
     },
     "metadata": {},
     "output_type": "display_data"
    },
    {
     "data": {
      "text/html": [
       "Run data is saved locally in <code>/local-scratch/localhome/pagand/projects/mygitsDaTu/AITutor_SeqModeling/wandb/run-20240621_164954-29fejbih</code>"
      ],
      "text/plain": [
       "<IPython.core.display.HTML object>"
      ]
     },
     "metadata": {},
     "output_type": "display_data"
    },
    {
     "data": {
      "text/html": [
       "Syncing run <strong><a href='https://wandb.ai/marslab/DaTu_prediction/runs/29fejbih' target=\"_blank\">augment-lora-Ciriculum-distilbert</a></strong> to <a href='https://wandb.ai/marslab/DaTu_prediction' target=\"_blank\">Weights & Biases</a> (<a href='https://wandb.me/run' target=\"_blank\">docs</a>)<br/>"
      ],
      "text/plain": [
       "<IPython.core.display.HTML object>"
      ]
     },
     "metadata": {},
     "output_type": "display_data"
    },
    {
     "data": {
      "text/html": [
       " View project at <a href='https://wandb.ai/marslab/DaTu_prediction' target=\"_blank\">https://wandb.ai/marslab/DaTu_prediction</a>"
      ],
      "text/plain": [
       "<IPython.core.display.HTML object>"
      ]
     },
     "metadata": {},
     "output_type": "display_data"
    },
    {
     "data": {
      "text/html": [
       " View run at <a href='https://wandb.ai/marslab/DaTu_prediction/runs/29fejbih' target=\"_blank\">https://wandb.ai/marslab/DaTu_prediction/runs/29fejbih</a>"
      ],
      "text/plain": [
       "<IPython.core.display.HTML object>"
      ]
     },
     "metadata": {},
     "output_type": "display_data"
    },
    {
     "data": {
      "text/html": [
       "<button onClick=\"this.nextSibling.style.display='block';this.style.display='none';\">Display W&B run</button><iframe src='https://wandb.ai/marslab/DaTu_prediction/runs/29fejbih?jupyter=true' style='border:none;width:100%;height:420px;display:none;'></iframe>"
      ],
      "text/plain": [
       "<wandb.sdk.wandb_run.Run at 0x7f6e41c7d910>"
      ]
     },
     "execution_count": 52,
     "metadata": {},
     "output_type": "execute_result"
    }
   ],
   "source": [
    "wandb.init(project=\"DaTu_prediction\", entity=\"marslab\", name = \"augment-lora-Ciriculum-distilbert\")"
   ]
  },
  {
   "cell_type": "code",
   "execution_count": 53,
   "metadata": {},
   "outputs": [],
   "source": [
    "import random\n",
    "\n",
    "def augment_sequence(sequences, max_changes, action_prob , time_prob):\n",
    "    all_sequences = []\n",
    "    for sequence in sequences:\n",
    "        all_sequences.append(sequence)\n",
    "       \n",
    "\n",
    "        augmented_sequence = []\n",
    "        number_of_changes = 0\n",
    "        i = 0\n",
    "\n",
    "        while i <len(sequence):\n",
    "\n",
    "            if number_of_changes>=max_changes:\n",
    "                augmented_sequence.extend(sequence[i:])\n",
    "                all_sequences.append(augmented_sequence)\n",
    "                augmented_sequence = sequence[:i]\n",
    "            \n",
    "            token = sequence[i]\n",
    "            if token.startswith('Q'): # dont change the problem id\n",
    "                augmented_sequence.append(token)\n",
    "                i+=1\n",
    "                continue\n",
    "            elif token.startswith('T'): # vary time intervals\n",
    "                # Extract the time value and apply variance\n",
    "                # 'T0', 'T1', 'T2', 'T3', 'T4', 'T5', 'T6', 'T7', 'T8', 'TMAX',\n",
    "                if random.random() < time_prob:\n",
    "                    number_of_changes += 1\n",
    "                    time_val = int(token[1:]) if token != 'TMAX' else 8\n",
    "                    # choose a random time interval with normal distribution mean = time_val, std = time_prob\n",
    "                    time_val = max(0, min(8, int(np.random.normal(time_val, time_prob))))\n",
    "                    augmented_sequence.append('T' + str(time_val))\n",
    "                else:\n",
    "                    augmented_sequence.append(token)\n",
    "            else: # 'UA','FA','PA','FH', 'UH', 'RH','FE', 'UE','RF', 'RC', 'B', 'C','M', 'S',\n",
    "            # Randomly decide to repeat or skip an action\n",
    "                action = token\n",
    "                p = random.random()\n",
    "                number_of_changes += 1\n",
    "                if p < action_prob:\n",
    "                    # Repeat action\n",
    "                    # randomply select a time interval from T0, T1, T2\n",
    "                    augmented_sequence.extend([action, 'T' + str(random.randint(0, 2)), action])\n",
    "                elif p < 2 * action_prob:\n",
    "                    # Skip action\n",
    "                    i+=2 # skip the time\n",
    "                    continue\n",
    "                elif p < 2.5 * action_prob:\n",
    "                    # Insert a random action\n",
    "                    action_list = ['UA','FA','PA','FH', 'UH', 'RH','FE', 'UE','RF', 'RC', 'B', 'C','M', 'S']\n",
    "                    augmented_sequence.extend([random.choice(action_list), 'T' + str(random.randint(0, 2)), action])\n",
    "                else:\n",
    "                    augmented_sequence.append(action)\n",
    "                    number_of_changes -= 1\n",
    "            i+=1\n",
    "\n",
    "        all_sequences.append(augmented_sequence)\n",
    "    return all_sequences"
   ]
  },
  {
   "cell_type": "code",
   "execution_count": 61,
   "metadata": {},
   "outputs": [
    {
     "name": "stdout",
     "output_type": "stream",
     "text": [
      "758 254\n"
     ]
    }
   ],
   "source": [
    "augmented_sequences = augment_sequence(sequences, max_changes=20, action_prob = 0.003, time_prob=0.03)\n",
    "print(len(augmented_sequences), len(sequences))"
   ]
  },
  {
   "cell_type": "code",
   "execution_count": 62,
   "metadata": {},
   "outputs": [],
   "source": [
    "# Create the dataset and dataloader\n",
    "dataset = CurriculumDaTuDatasett(augmented_sequences,  scores, tokenizer)\n",
    "\n",
    "# reporoducibility\n",
    "seed = 42\n",
    "torch.manual_seed(seed)\n",
    "np.random.seed(seed)\n",
    "torch.backends.cudnn.deterministic = True\n",
    "torch.random.manual_seed(seed)\n",
    "g = torch.Generator().manual_seed(seed)\n",
    "\n",
    "train_size = int(0.8 * len(dataset))\n",
    "val_size = len(dataset) - train_size\n",
    "train_dataset, _ = random_split(dataset, [train_size, val_size], generator=g)  # keep the validation the same\n",
    "\n",
    "train_dataloader = DataLoader(train_dataset, batch_size=8, shuffle=True, collate_fn=None, worker_init_fn=seed, generator=g)\n",
    "val_dataloader = DataLoader(val_dataset, batch_size=8, shuffle=False, collate_fn=None, worker_init_fn=seed, generator=g)\n"
   ]
  },
  {
   "cell_type": "code",
   "execution_count": 63,
   "metadata": {},
   "outputs": [
    {
     "name": "stderr",
     "output_type": "stream",
     "text": [
      "/localhome/pagand/projects/mygitsDaTu/AITutor_SeqModeling/myenv/lib/python3.8/site-packages/transformers/optimization.py:521: FutureWarning: This implementation of AdamW is deprecated and will be removed in a future version. Use the PyTorch implementation torch.optim.AdamW instead, or set `no_deprecation_warning=True` to disable this warning\n",
      "  warnings.warn(\n"
     ]
    }
   ],
   "source": [
    "epochs = 50\n",
    "optimizer = AdamW(model_peft.parameters(), lr=5e-5)\n",
    "total_steps = len(train_dataloader) * epochs\n",
    "scheduler = get_linear_schedule_with_warmup(optimizer, num_warmup_steps=4, num_training_steps=total_steps)"
   ]
  },
  {
   "cell_type": "code",
   "execution_count": 64,
   "metadata": {},
   "outputs": [
    {
     "name": "stdout",
     "output_type": "stream",
     "text": [
      "Epoch 1/50 | Train Loss: 0.067 | Validation Loss: 0.055\n",
      "Epoch 6/50 | Train Loss: 0.067 | Validation Loss: 0.051\n",
      "Epoch 11/50 | Train Loss: 0.068 | Validation Loss: 0.051\n",
      "Epoch 16/50 | Train Loss: 0.064 | Validation Loss: 0.055\n",
      "Epoch 21/50 | Train Loss: 0.065 | Validation Loss: 0.052\n",
      "Epoch 26/50 | Train Loss: 0.065 | Validation Loss: 0.054\n",
      "Epoch 31/50 | Train Loss: 0.064 | Validation Loss: 0.054\n",
      "Epoch 36/50 | Train Loss: 0.066 | Validation Loss: 0.053\n",
      "Epoch 41/50 | Train Loss: 0.067 | Validation Loss: 0.054\n",
      "Epoch 46/50 | Train Loss: 0.066 | Validation Loss: 0.052\n"
     ]
    }
   ],
   "source": [
    "train_val_loop(model, train_dataloader, val_dataloader, optimizer, scheduler, epochs)"
   ]
  },
  {
   "cell_type": "code",
   "execution_count": 65,
   "metadata": {},
   "outputs": [
    {
     "name": "stdout",
     "output_type": "stream",
     "text": [
      "[[ 0.  0.  0.  0.]\n",
      " [ 4.  8.  7.  4.]\n",
      " [ 5.  4. 13.  5.]\n",
      " [ 0.  0.  0.  0.]]\n"
     ]
    },
    {
     "data": {
      "image/png": "[encoded data removed]",
      "text/plain": [
       "<Figure size 640x480 with 2 Axes>"
      ]
     },
     "metadata": {},
     "output_type": "display_data"
    }
   ],
   "source": [
    "\n",
    "# compute a quality metric for the model\n",
    "y_pred = []\n",
    "y_true = []\n",
    "model.eval()\n",
    "for batch in val_dataloader:\n",
    "    batch = {k: v.squeeze(1).to(device) for k, v in batch.items()}  # Move batch to device\n",
    "    with torch.no_grad():\n",
    "        outputs = model(**batch)\n",
    "        y_pred.extend(outputs.logits.squeeze(1).tolist())\n",
    "        y_true.extend(batch['labels'].tolist())\n",
    "\n",
    "# calculate the confusion matrix by values 0-0.25, 0.25-`0.5, 0.5-0.75, 0.75-1\n",
    "y_pred = np.array(y_pred)\n",
    "y_true = np.array(y_true)\n",
    "y_pred_bin = np.round(y_pred, 2)\n",
    "y_true_bin = np.round(y_true, 2)\n",
    "confusion_matrix = np.zeros((4, 4))\n",
    "for i in range(4):\n",
    "    for j in range(4):\n",
    "        confusion_matrix[i, j] = np.sum((y_pred_bin >= i*0.25) & (y_pred_bin < (i+1)*0.25) & (y_true_bin >= j*0.25) & (y_true_bin < (j+1)*0.25))\n",
    "print(confusion_matrix)\n",
    "\n",
    "\n",
    "sns.heatmap(confusion_matrix, annot=True, fmt='g')\n",
    "plt.xlabel('Predicted')\n",
    "plt.ylabel('True')\n",
    "plt.show()"
   ]
  },
  {
   "cell_type": "code",
   "execution_count": 66,
   "metadata": {},
   "outputs": [
    {
     "data": {
      "image/png": "[encoded data removed]",
      "text/plain": [
       "<Figure size 640x480 with 1 Axes>"
      ]
     },
     "metadata": {},
     "output_type": "display_data"
    }
   ],
   "source": [
    "# sort the values of y_true, then change the y_pred accordingly\n",
    "y_true_sorted = np.sort(y_true)\n",
    "y_pred_sorted = y_pred[np.argsort(y_true)]\n",
    "\n",
    "# compute yerr up and down error\n",
    "yerr = y_pred_sorted - y_true_sorted\n",
    "yerr_up = [0 if x < 0 else x for x in yerr]\n",
    "yerr_down = [0 if x > 0 else -x for x in yerr]\n",
    "yerr_ud = np.array([yerr_down, yerr_up])\n",
    "\n",
    "# plot errorbar  (y_true - y_pred) for each value of y_true\n",
    "plt.errorbar(y_true_sorted,y_true_sorted,yerr= yerr_ud, fmt='o',ecolor = \"red\")\n",
    "plt.xlabel('True')\n",
    "plt.ylabel('True + Error')\n",
    "plt.show()\n"
   ]
  },
  {
   "cell_type": "code",
   "execution_count": 67,
   "metadata": {},
   "outputs": [
    {
     "name": "stdout",
     "output_type": "stream",
     "text": [
      "max prediction:\n",
      "['Q1', 'FH', 'T4', 'UH', 'T5', 'UH', 'T0', 'FA', 'T7', 'C', 'T3', 'FE', 'T4', 'UE', 'T6', 'UE', 'T2', 'UE', 'T4', 'UA', 'T0', 'UE', 'T6', 'UE', 'T3', 'UE', 'T5', 'UE', 'T2', 'UE', 'T4', 'UE', 'T1', 'UE', 'T7', 'UE', 'T4', 'UE', 'T6', 'FH', 'T6', 'UH', 'T1', 'UH', 'T2', 'S', 'T6', 'FE', 'T6', 'UE', 'T4', 'FA', 'T5', 'UA', 'T1', 'UA', 'T0', 'UA', 'T1', 'UA', 'T0', 'UA', 'T0', 'UA', 'T1', 'UA', 'T0', 'UA', 'T0', 'UA', 'T2', 'UA', 'T0', 'UA', 'T0', 'UA', 'T0', 'UA', 'T0', 'UA', 'T0', 'UA', 'T0', 'UA', 'T0', 'UA', 'T0', 'UA', 'T0', 'UA', 'T0', 'UA', 'T0', 'UA', 'T0', 'UA', 'T0', 'UA', 'T0', 'UA', 'T0', 'UA', 'T0', 'UA', 'T0', 'UA', 'T0', 'UA', 'T2', 'UA', 'T1', 'UA', 'T0', 'UA', 'T3', 'FE', 'T6', 'UE', 'T3', 'C', 'T0', 'FH', 'T1', 'UH', 'T0', 'UH', 'T0', 'UE', 'T1', 'UE', 'T2', 'UE', 'T4', 'FA', 'T5', 'FE', 'T7', 'FH', 'T0', 'UH', 'T2', 'UA', 'T4', 'UE', 'T6', 'UE', 'T3', 'C', 'T0', 'UH', 'T0', 'FH', 'T3', 'UH', 'T1', 'UH', 'T0', 'S', 'T4', 'S', 'T2', 'S', 'T1', 'S', 'T5', 'S', 'T3', 'S', 'T0', 'S', 'T3', 'S', 'T2', 'S', 'T0', 'S', 'T1', 'S', 'T0', 'S', 'T8', 'S', 'T5', 'S', 'T2', 'S', 'T5', 'S', 'T0', 'S', 'T0', 'S', 'T3', 'S', 'T0', 'S', 'T0', 'S', 'T0', 'FH', 'T6', 'UH', 'T0', 'UH', 'T0', 'S', 'T5', 'S', 'T4', 'S', 'T0', 'S', 'T1', 'S', 'T6', 'S', 'T1', 'S', 'T0', 'FE', 'T6', 'UE', 'T6', 'FA', 'T6', 'UA', 'T0', 'UA', 'T0', 'UA', 'T7', 'UE', 'T6', 'C', 'T0', 'FA', 'T6', 'FH', 'T3', 'C', 'T1', 'UA', 'T6', 'UH', 'T7', 'UH', 'T0', 'UA', 'T6', 'FE', 'T6', 'UA', 'T0', 'UE', 'T7', 'UA', 'T0', 'UE', 'T5', 'UE', 'T8', 'FE', 'T8', 'FA', 'T0', 'UE', 'T7', 'S', 'T8', 'S', 'T5', 'UE', 'T8', 'UA', 'T0', 'UE', 'T7', 'C', 'T0', 'C', 'T0', 'RH', 'T2', 'RH', 'T2', 'FA', 'T5', 'UA', 'T5', 'UA', 'T2', 'UA', 'T1', 'UA', 'T0', 'UA', 'T0', 'UA', 'T0', 'UA', 'T0', 'UA', 'T2', 'UA', 'T1', 'UE', 'T7', 'UA', 'T0', 'UE', 'T7', 'FH', 'T4', 'UH', 'T0', 'UH', 'T0', 'FA', 'T1', 'FH', 'T6', 'UH', 'T1', 'UH', 'T0', 'FA', 'T2', 'UA', 'T8', 'FA', 'T6', 'FH', 'T2', 'UH', 'T0', 'UH', 'T0', 'FH', 'T5', 'UH', 'T1', 'UH', 'T0', 'FA', 'T4', 'UA', 'T2', 'UA', 'T1', 'UA', 'T0', 'UA', 'T1', 'UA', 'T0', 'UA', 'T0', 'UA', 'T0', 'UA', 'T0', 'UA', 'T0', 'UA', 'T1', 'UA', 'T0', 'UA', 'T0', 'UA', 'T0', 'UA', 'T0', 'UA', 'T1', 'UA', 'T0', 'UA', 'T1', 'UA', 'T0', 'UA', 'T0', 'UA', 'T3', 'UA', 'T0', 'FE', 'T6', 'C', 'T0', 'FH', 'T2', 'UH', 'T1', 'UH', 'T0', 'FA', 'T7', 'FA', 'T7', 'UA', 'T2', 'UA', 'T0', 'UA', 'T0', 'UA', 'T0', 'UA', 'T0', 'UA', 'T0', 'UA', 'T1', 'UA', 'T0', 'UA', 'T0', 'UA', 'T2', 'UA', 'T0', 'UA', 'T0', 'UA', 'T0', 'UA', 'T0', 'UA', 'T0', 'UA', 'T0', 'UA', 'T0', 'UA', 'T0', 'UA', 'T0', 'UA', 'T0', 'UA', 'T0', 'UA', 'T0', 'UA', 'T0', 'UA', 'T0', 'UA', 'T0', 'FH', 'T1', 'UH', 'T0', 'UH', 'T0', 'FE', 'T6', 'UE', 'T6', 'UE', 'T0', 'UE', 'T3', 'C', 'T0', 'UE', 'T5', 'UE', 'T6', 'FH', 'T0', 'UH', 'T0', 'UH', 'T0', 'FA', 'TMAX', 'UA', 'T1', 'UA', 'T0', 'UA', 'T0', 'UA', 'T0', 'UA', 'T0', 'UA', 'T0', 'UA', 'T0', 'UA', 'T0', 'UA', 'T0', 'UA', 'T0', 'UA', 'T0', 'UA', 'T0', 'FH', 'T2', 'UH', 'T1', 'UH', 'T0', 'FE', 'T7', 'C', 'T0', 'UA', 'T4', 'UA', 'T0', 'UA', 'T0', 'UA', 'T0', 'UA', 'T0', 'UA', 'T0', 'UA', 'T0', 'UA', 'T0', 'UA', 'T0', 'UA', 'T0', 'FE', 'T6', 'UA', 'T0', 'UA', 'T1', 'UA', 'T0', 'UA', 'T0', 'UA', 'T0', 'UA', 'T0', 'UA', 'T0', 'UA', 'T0', 'UA', 'T0', 'UA', 'T0', 'UA', 'T0', 'FE', 'T5', 'FH', 'T0', 'UH', 'T0', 'UH', 'T0', 'FA', 'T2', 'UA', 'T0', 'UA', 'T0', 'UA', 'T0', 'UA', 'T0', 'UA', 'T0', 'UA', 'T0', 'UA', 'T0', 'UA', 'T0', 'UA', 'T0', 'UA', 'T0', 'UA', 'T0', 'FE', 'T6', 'UA', 'T4', 'UA', 'T0', 'UE', 'T3', 'UA', 'T0', 'UA', 'T0', 'UE', 'T5', 'UA', 'T0', 'UA', 'T1', 'UA', 'T0', 'UA', 'T4', 'UA', 'T1', 'UA', 'T0', 'UA', 'T0', 'UA', 'T0', 'UA', 'T0', 'UA', 'T0', 'UA', 'T4', 'UA', 'T4', 'UA', 'T1', 'UA', 'T2', 'UA', 'T1', 'UA', 'T1', 'UA', 'T1', 'UE', 'T6', 'UE', 'T1', 'UE', 'T4', 'FA', 'T7', 'C', 'T1', 'UA', 'T1', 'UA', 'T1', 'UA', 'T4', 'C', 'T4']\n",
      "0.5356619358062744 0.0\n",
      "min prediction:\n",
      "['Q3', 'M', 'T7', 'M', 'T6', 'M', 'T8', 'M', 'T7']\n",
      "0.42499542236328125 0.0555555559694767\n",
      "28 27\n",
      "worst prediction:\n",
      "['Q1', 'FH', 'T4', 'UH', 'T5', 'UH', 'T0', 'FA', 'T7', 'C', 'T3', 'FE', 'T4', 'UE', 'T6', 'UE', 'T2', 'UE', 'T4', 'UA', 'T0', 'UE', 'T6', 'UE', 'T3', 'UE', 'T5', 'UE', 'T2', 'UE', 'T4', 'UE', 'T1', 'UE', 'T7', 'UE', 'T4', 'UE', 'T6', 'FH', 'T6', 'UH', 'T1', 'UH', 'T2', 'S', 'T6', 'FE', 'T6', 'UE', 'T4', 'FA', 'T5', 'UA', 'T1', 'UA', 'T0', 'UA', 'T1', 'UA', 'T0', 'UA', 'T0', 'UA', 'T1', 'UA', 'T0', 'UA', 'T0', 'UA', 'T2', 'UA', 'T0', 'UA', 'T0', 'UA', 'T0', 'UA', 'T0', 'UA', 'T0', 'UA', 'T0', 'UA', 'T0', 'UA', 'T0', 'UA', 'T0', 'UA', 'T0', 'UA', 'T0', 'UA', 'T0', 'UA', 'T0', 'UA', 'T0', 'UA', 'T0', 'UA', 'T0', 'UA', 'T0', 'UA', 'T0', 'UA', 'T2', 'UA', 'T1', 'UA', 'T0', 'UA', 'T3', 'FE', 'T6', 'UE', 'T3', 'C', 'T0', 'FH', 'T1', 'UH', 'T0', 'UH', 'T0', 'UE', 'T1', 'UE', 'T2', 'UE', 'T4', 'FA', 'T5', 'FE', 'T7', 'FH', 'T0', 'UH', 'T2', 'UA', 'T4', 'UE', 'T6', 'UE', 'T3', 'C', 'T0', 'UH', 'T0', 'FH', 'T3', 'UH', 'T1', 'UH', 'T0', 'S', 'T4', 'S', 'T2', 'S', 'T1', 'S', 'T5', 'S', 'T3', 'S', 'T0', 'S', 'T3', 'S', 'T2', 'S', 'T0', 'S', 'T1', 'S', 'T0', 'S', 'T8', 'S', 'T5', 'S', 'T2', 'S', 'T5', 'S', 'T0', 'S', 'T0', 'S', 'T3', 'S', 'T0', 'S', 'T0', 'S', 'T0', 'FH', 'T6', 'UH', 'T0', 'UH', 'T0', 'S', 'T5', 'S', 'T4', 'S', 'T0', 'S', 'T1', 'S', 'T6', 'S', 'T1', 'S', 'T0', 'FE', 'T6', 'UE', 'T6', 'FA', 'T6', 'UA', 'T0', 'UA', 'T0', 'UA', 'T7', 'UE', 'T6', 'C', 'T0', 'FA', 'T6', 'FH', 'T3', 'C', 'T1', 'UA', 'T6', 'UH', 'T7', 'UH', 'T0', 'UA', 'T6', 'FE', 'T6', 'UA', 'T0', 'UE', 'T7', 'UA', 'T0', 'UE', 'T5', 'UE', 'T8', 'FE', 'T8', 'FA', 'T0', 'UE', 'T7', 'S', 'T8', 'S', 'T5', 'UE', 'T8', 'UA', 'T0', 'UE', 'T7', 'C', 'T0', 'C', 'T0', 'RH', 'T2', 'RH', 'T2', 'FA', 'T5', 'UA', 'T5', 'UA', 'T2', 'UA', 'T1', 'UA', 'T0', 'UA', 'T0', 'UA', 'T0', 'UA', 'T0', 'UA', 'T2', 'UA', 'T1', 'UE', 'T7', 'UA', 'T0', 'UE', 'T7', 'FH', 'T4', 'UH', 'T0', 'UH', 'T0', 'FA', 'T1', 'FH', 'T6', 'UH', 'T1', 'UH', 'T0', 'FA', 'T2', 'UA', 'T8', 'FA', 'T6', 'FH', 'T2', 'UH', 'T0', 'UH', 'T0', 'FH', 'T5', 'UH', 'T1', 'UH', 'T0', 'FA', 'T4', 'UA', 'T2', 'UA', 'T1', 'UA', 'T0', 'UA', 'T1', 'UA', 'T0', 'UA', 'T0', 'UA', 'T0', 'UA', 'T0', 'UA', 'T0', 'UA', 'T1', 'UA', 'T0', 'UA', 'T0', 'UA', 'T0', 'UA', 'T0', 'UA', 'T1', 'UA', 'T0', 'UA', 'T1', 'UA', 'T0', 'UA', 'T0', 'UA', 'T3', 'UA', 'T0', 'FE', 'T6', 'C', 'T0', 'FH', 'T2', 'UH', 'T1', 'UH', 'T0', 'FA', 'T7', 'FA', 'T7', 'UA', 'T2', 'UA', 'T0', 'UA', 'T0', 'UA', 'T0', 'UA', 'T0', 'UA', 'T0', 'UA', 'T1', 'UA', 'T0', 'UA', 'T0', 'UA', 'T2', 'UA', 'T0', 'UA', 'T0', 'UA', 'T0', 'UA', 'T0', 'UA', 'T0', 'UA', 'T0', 'UA', 'T0', 'UA', 'T0', 'UA', 'T0', 'UA', 'T0', 'UA', 'T0', 'UA', 'T0', 'UA', 'T0', 'UA', 'T0', 'UA', 'T0', 'FH', 'T1', 'UH', 'T0', 'UH', 'T0', 'FE', 'T6', 'UE', 'T6', 'UE', 'T0', 'UE', 'T3', 'C', 'T0', 'UE', 'T5', 'UE', 'T6', 'FH', 'T0', 'UH', 'T0', 'UH', 'T0', 'FA', 'TMAX', 'UA', 'T1', 'UA', 'T0', 'UA', 'T0', 'UA', 'T0', 'UA', 'T0', 'UA', 'T0', 'UA', 'T0', 'UA', 'T0', 'UA', 'T0', 'UA', 'T0', 'UA', 'T0', 'UA', 'T0', 'FH', 'T2', 'UH', 'T1', 'UH', 'T0', 'FE', 'T7', 'C', 'T0', 'UA', 'T4', 'UA', 'T0', 'UA', 'T0', 'UA', 'T0', 'UA', 'T0', 'UA', 'T0', 'UA', 'T0', 'UA', 'T0', 'UA', 'T0', 'UA', 'T0', 'FE', 'T6', 'UA', 'T0', 'UA', 'T1', 'UA', 'T0', 'UA', 'T0', 'UA', 'T0', 'UA', 'T0', 'UA', 'T0', 'UA', 'T0', 'UA', 'T0', 'UA', 'T0', 'UA', 'T0', 'FE', 'T5', 'FH', 'T0', 'UH', 'T0', 'UH', 'T0', 'FA', 'T2', 'UA', 'T0', 'UA', 'T0', 'UA', 'T0', 'UA', 'T0', 'UA', 'T0', 'UA', 'T0', 'UA', 'T0', 'UA', 'T0', 'UA', 'T0', 'UA', 'T0', 'UA', 'T0', 'FE', 'T6', 'UA', 'T4', 'UA', 'T0', 'UE', 'T3', 'UA', 'T0', 'UA', 'T0', 'UE', 'T5', 'UA', 'T0', 'UA', 'T1', 'UA', 'T0', 'UA', 'T4', 'UA', 'T1', 'UA', 'T0', 'UA', 'T0', 'UA', 'T0', 'UA', 'T0', 'UA', 'T0', 'UA', 'T4', 'UA', 'T4', 'UA', 'T1', 'UA', 'T2', 'UA', 'T1', 'UA', 'T1', 'UA', 'T1', 'UE', 'T6', 'UE', 'T1', 'UE', 'T4', 'FA', 'T7', 'C', 'T1', 'UA', 'T1', 'UA', 'T1', 'UA', 'T4', 'C', 'T4']\n",
      "0.5356619358062744 0.0\n",
      "Best prediction:\n",
      "['Q2', 'FA', 'T5', 'FE', 'T6', 'C', 'T3', 'FA', 'T6', 'UA', 'T0', 'UE', 'T4', 'FA', 'T0', 'FA', 'T3', 'UA', 'T1', 'UE', 'T1', 'FE', 'T1', 'C', 'T0', 'C', 'T1', 'C', 'T1', 'FA', 'T2', 'UA', 'T0', 'UA', 'T1', 'UA', 'T0', 'UA', 'T0', 'FE', 'T1', 'C', 'T0', 'UE', 'T8', 'RC', 'T8', 'RC', 'T5', 'RC', 'T3', 'FA', 'T1', 'FE', 'T3', 'UE', 'T3', 'RC', 'T6', 'RC', 'T3', 'RC', 'T3', 'RC', 'T2', 'FA', 'T1', 'FE', 'T4', 'FA', 'T6', 'UA', 'T1', 'FE', 'T4', 'RC', 'T5', 'RC', 'T5', 'RC', 'T4', 'RC', 'T6', 'RC', 'T1', 'RC', 'T1', 'RC', 'T1', 'RC', 'T1', 'RC', 'T2', 'RC', 'T1', 'FA', 'T1', 'FE', 'T2', 'UE', 'T4', 'RC', 'T6', 'RC', 'T3', 'RC', 'T2', 'RC', 'T1', 'RC', 'T5', 'RC', 'T6', 'RC', 'T5', 'RC', 'T3', 'RC', 'T4', 'RC', 'T3', 'RC', 'T4', 'RC', 'T3', 'RC', 'T3', 'RC', 'T2', 'RC', 'T4', 'FA', 'T2', 'UA', 'T0', 'UA', 'T0', 'UA', 'T0', 'FE', 'T6', 'FA', 'T4', 'FA', 'T2', 'UA', 'T0', 'RC', 'T7', 'FE', 'T6', 'FA', 'T3', 'UA', 'T1', 'UA', 'T1', 'UA', 'T0', 'RC', 'T4', 'UA', 'T6', 'UA', 'T2', 'UA', 'T5', 'FE', 'T6', 'C', 'T0', 'C', 'T1', 'C', 'T1', 'C', 'T1', 'C', 'T1', 'C', 'T0', 'C', 'T1', 'FA', 'TMAX', 'UA', 'T0', 'UA', 'T0', 'UA', 'T1', 'UA', 'T1', 'UA', 'T1', 'UA', 'T0', 'UA', 'T1', 'UA', 'T0', 'UA', 'T1', 'UA', 'T2', 'FE', 'T3', 'C', 'T0', 'FA', 'T6', 'UA', 'T0', 'UA', 'T2', 'UA', 'T1', 'FE', 'T3', 'C', 'T0', 'FA', 'T2', 'UA', 'T1', 'UA', 'T0', 'UA', 'T0', 'UA', 'T1', 'UA', 'T0', 'UA', 'T1', 'UA', 'T1', 'FE', 'T2', 'C', 'T0', 'FA', 'T6', 'UA', 'T0', 'FE', 'T3', 'C', 'T0', 'FA', 'T5', 'UA', 'T0', 'C', 'T1', 'UA', 'T1', 'UA', 'T5', 'FE', 'T2', 'FA', 'T5', 'UA', 'T0', 'FE', 'T2', 'C', 'T0', 'FA', 'T6', 'UA', 'T0', 'FE', 'T4', 'FA', 'T0', 'C', 'T1', 'FE', 'T3', 'FA', 'T6', 'UA', 'T0', 'FE', 'T1', 'C', 'T0']\n",
      "0.4981127083301544 0.5\n"
     ]
    }
   ],
   "source": [
    "# visualize the sequence of input in validation with the highest and lowest prediction\n",
    "max_pred = np.argmax(y_pred)\n",
    "min_pred = np.argmin(y_pred)\n",
    "\n",
    "print('max prediction:')\n",
    "print(sequences[max_pred])\n",
    "print(y_pred[max_pred], y_true[max_pred])\n",
    "print('min prediction:')\n",
    "print(sequences[min_pred])\n",
    "print(y_pred[min_pred], y_true[min_pred])\n",
    "\n",
    "# show the sequence with the most accurate and least accurate prediction\n",
    "max_pred = np.argmax(np.abs(y_pred-y_true))\n",
    "min_pred = np.argmin(np.abs(y_pred-y_true))\n",
    "print(max_pred, min_pred)\n",
    "\n",
    "print('worst prediction:')\n",
    "print(sequences[max_pred])\n",
    "print(y_pred[max_pred], y_true[max_pred])\n",
    "print('Best prediction:')\n",
    "print(sequences[min_pred])\n",
    "print(y_pred[min_pred], y_true[min_pred])"
   ]
  },
  {
   "cell_type": "code",
   "execution_count": 69,
   "metadata": {},
   "outputs": [
    {
     "name": "stdout",
     "output_type": "stream",
     "text": [
      "MSE: 0.055, MAE: 0.185, R2: 0.009, Max Error: 0.536\n"
     ]
    }
   ],
   "source": [
    "# create metrics for the model from Y_pred and Y_true\n",
    "from sklearn.metrics import mean_squared_error, mean_absolute_error, r2_score\n",
    "mse = mean_squared_error(y_true, y_pred)\n",
    "mae = mean_absolute_error(y_true, y_pred)\n",
    "r2 = r2_score(y_true, y_pred)\n",
    "max_error = np.max(np.abs(y_true - y_pred))\n",
    "print(f\"MSE: {mse:.3f}, MAE: {mae:.3f}, R2: {r2:.3f}, Max Error: {max_error:.3f}\")\n"
   ]
  }
 ],
 "metadata": {
  "kernelspec": {
   "display_name": ".venv",
   "language": "python",
   "name": "python3"
  },
  "language_info": {
   "codemirror_mode": {
    "name": "ipython",
    "version": 3
   },
   "file_extension": ".py",
   "mimetype": "text/x-python",
   "name": "python",
   "nbconvert_exporter": "python",
   "pygments_lexer": "ipython3",
   "version": "3.8.5"
  }
 },
 "nbformat": 4,
 "nbformat_minor": 2
}
